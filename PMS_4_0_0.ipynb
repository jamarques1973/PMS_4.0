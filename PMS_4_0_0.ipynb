{
  "cells": [
    {
      "cell_type": "markdown",
      "metadata": {},
      "source": [
        "# PMS 4.0.0 (Voilà-ready)\n",
        "Refactor completo de PMS 3.6.0 a arquitectura en capas con UI profesional."
      ]
    },
    {
      "cell_type": "code",
      "execution_count": null,
      "metadata": {},
      "outputs": [],
      "source": [
        "# Inicialización de entorno y logging\n",
        "from pms4.utils.logging_setup import setup_logging\n",
        "setup_logging()\n",
        "print(\"PMS 4.0.0 entorno inicializado\")"
      ]
    },
    {
      "cell_type": "code",
      "execution_count": null,
      "metadata": {},
      "outputs": [],
      "source": [
        "# Cargar configuración y mostrar UI\n",
        "from pms4.utils.config import ParameterStore\n",
        "from pms4.frontend.ui import PMSApp\n",
        "params = ParameterStore.load_json()\n",
        "app = PMSApp(params)\n",
        "app.show()"
      ]
    }
  ],
  "metadata": {
    "kernelspec": {
      "display_name": "Python 3",
      "language": "python",
      "name": "python3"
    },
    "language_info": {
      "name": "python",
      "version": "3"
    },
    "voila": {
      "strip_sources": true,
      "template": "lab"
    }
  },
  "nbformat": 4,
  "nbformat_minor": 5
}