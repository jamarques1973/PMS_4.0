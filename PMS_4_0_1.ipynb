# PMS 4.0.1 — Carga y Segmentación por Y (X, Y y Fecha) — UI Voilà

import sys
from io import StringIO, BytesIO
from typing import Optional, Tuple, List, Dict

import numpy as np
import pandas as pd
import ipywidgets as widgets
from IPython.display import display

# --- Helpers UI ---
LEVEL_TO_COLOR = {
    "info": "#1f77b4",
    "success": "#2ca02c",
    "warning": "#ff7f0e",
    "error": "#d62728",
}

def make_alert_html(message: str, level: str = "info") -> widgets.HTML:
    color = LEVEL_TO_COLOR.get(level, "#333")
    return widgets.HTML(
        value=(
            f"<div style='padding:8px 12px;border-left:4px solid {color};"
            f"background:#f9f9fb;border-radius:4px;margin:6px 0;'>"
            f"<span style='color:{color};font-weight:600;text-transform:uppercase;margin-right:8px;'>{level}</span>"
            f"<span style='color:#222'>{message}</span>"
            f"</div>"
        )
    )

def get_uploaded_bytes(uploader: widgets.FileUpload) -> Optional[bytes]:
    if not uploader.value:
        return None
    if isinstance(uploader.value, dict):
        first_key = next(iter(uploader.value))
        return uploader.value[first_key].get("content")
    if isinstance(uploader.value, tuple) and len(uploader.value) > 0:
        return uploader.value[0].get("content")
    return None

# --- Parsing helpers ---

def _sanitize_headers(df: pd.DataFrame) -> pd.DataFrame:
    df = df.copy()
    df.columns = [str(c).strip() if str(c).strip() != "" else f"col_{i}" for i, c in enumerate(df.columns)]
    seen: Dict[str, int] = {}
    new_cols: List[str] = []
    for c in df.columns:
        if c not in seen:
            seen[c] = 1
            new_cols.append(c)
        else:
            seen[c] += 1
            new_cols.append(f"{c}_{seen[c]}")
    df.columns = new_cols
    return df

def _drop_empty_rows_cols(df: pd.DataFrame) -> pd.DataFrame:
    df = df.dropna(axis=0, how="all")
    df = df.dropna(axis=1, how="all")
    df = df.reset_index(drop=True)
    return df

def _maybe_drop_index_column(df: pd.DataFrame) -> pd.DataFrame:
    df = df.copy()
    if df.shape[1] == 0:
        return df
    first_col = df.columns[0]
    lower_name = str(first_col).lower()
    if lower_name.startswith("unnamed") or lower_name in ("index", "#", "id"):
        return df.drop(columns=[first_col])
    return df

def parse_text_to_dataframe(text: str) -> pd.DataFrame:
    text = (text or "").strip()
    if text == "":
        return pd.DataFrame()
    candidate_seps = [None, "\t", ";", ",", r"\s+"]
    candidate_decimals = [",", "."]
    best_df = None
    best_score = (-1, -1)
    for sep in candidate_seps:
        for dec in candidate_decimals:
            for header in [0, None]:
                try:
                    df = pd.read_csv(StringIO(text), sep=sep, engine="python", decimal=dec, header=header)
                    df = _drop_empty_rows_cols(df)
                    df = _maybe_drop_index_column(df)
                    df = _sanitize_headers(df)
                    score = (df.shape[1], int(df.notna().sum().sum()))
                    if df.shape[1] > 0 and score > best_score:
                        best_df = df
                        best_score = score
                except Exception:
                    continue
    if best_df is None:
        try:
            best_df = pd.read_csv(StringIO(text), sep=r"\s+", engine="python", header=None)
            best_df = _drop_empty_rows_cols(best_df)
            best_df = _maybe_drop_index_column(best_df)
            best_df = _sanitize_headers(best_df)
        except Exception:
            return pd.DataFrame()
    return best_df

def parse_text_to_date_series(text: str) -> pd.Series:
    df = parse_text_to_dataframe(text)
    if df.shape[1] == 0:
        return pd.Series(dtype="datetime64[ns]")
    s = df.iloc[:, 0]
    dt1 = pd.to_datetime(s, errors="coerce", dayfirst=True)
    dt2 = pd.to_datetime(s, errors="coerce", dayfirst=False)
    return dt1 if dt1.notna().sum() >= dt2.notna().sum() else dt2

def parse_excel_bytes_to_dfs(xlsx_bytes: bytes, sheet_name: str) -> pd.DataFrame:
    xf = pd.ExcelFile(BytesIO(xlsx_bytes))
    df = xf.parse(sheet_name, header=0)
    df = _drop_empty_rows_cols(df)
    df = _maybe_drop_index_column(df)
    df = _sanitize_headers(df)
    return df

# --- Validation and preview ---

def validate_lengths(X: Optional[pd.DataFrame], Y: Optional[pd.DataFrame], Fecha: Optional[pd.Series]) -> Tuple[bool, List[str]]:
    messages: List[str] = []
    if X is None or X.shape[0] == 0:
        messages.append("X está vacío o no cargado.")
    if Y is None or Y.shape[0] == 0:
        messages.append("Y está vacío o no cargado.")
    if messages:
        return False, messages
    if X.shape[0] != Y.shape[0]:
        messages.append("Las filas de X y Y deben coincidir.")
    if Fecha is not None and len(Fecha) > 0:
        if len(Fecha) != X.shape[0]:
            messages.append("La longitud de Fecha debe coincidir con X e Y.")
    return len(messages) == 0, messages

def build_preview_table(X: Optional[pd.DataFrame], Y: Optional[pd.DataFrame], Fecha: Optional[pd.Series], n: int = 20) -> pd.DataFrame:
    if X is None or Y is None:
        return pd.DataFrame()
    df = X.copy()
    # Asegura nombre para Y
    y_df = Y.copy()
    if isinstance(y_df, pd.Series):
        y_df = y_df.to_frame(name=(y_df.name or "Y"))
    elif y_df.shape[1] == 1 and (y_df.columns[0] == 0 or str(y_df.columns[0]).strip() == ""):
        y_df.columns = ["Y"]
    df = pd.concat([df, y_df], axis=1)
    if Fecha is not None and len(Fecha) == len(df):
        df = pd.concat([df, pd.Series(pd.to_datetime(Fecha, errors='coerce'), name='Fecha')], axis=1)
    df.insert(0, "Muestra", np.arange(1, len(df) + 1))
    return df.head(n)

# --- App state ---
class AppState:
    def __init__(self) -> None:
        self.X: Optional[pd.DataFrame] = None
        self.Y: Optional[pd.DataFrame] = None
        self.Fecha: Optional[pd.Series] = None
        self.validation_messages: List[str] = []
        self.segments: List[Dict] = []
        self.segmentation_config: Dict = {}
        self.y_column_for_sort: Optional[str] = None

    def set_dataframes(self, X: Optional[pd.DataFrame], Y: Optional[pd.DataFrame], Fecha: Optional[pd.Series]) -> None:
        self.X, self.Y, self.Fecha = X, Y, Fecha
        # Default Y para ordenar: primera columna de Y
        if Y is not None and Y.shape[1] >= 1:
            self.y_column_for_sort = str(Y.columns[0])

    def validate(self) -> Tuple[bool, List[str]]:
        ok, msgs = validate_lengths(self.X, self.Y, self.Fecha)
        self.validation_messages = msgs
        return ok, msgs

app_state = AppState()

# ==========================
# CARGA DE DATOS (UI)
# ==========================
# --- Manual UI ---
x_text = widgets.Textarea(placeholder="Pegue aquí su tabla de X...", layout=widgets.Layout(width="100%", height="120px"))
y_text = widgets.Textarea(placeholder="Pegue aquí su tabla de Y...", layout=widgets.Layout(width="100%", height="120px"))
fecha_text = widgets.Textarea(placeholder="Pegue aquí su columna de Fecha (opcional)...", layout=widgets.Layout(width="100%", height="120px"))
btn_import_manual = widgets.Button(description="Importar (Copiar/Pegar)", button_style="primary", icon="download", layout=widgets.Layout(width="220px"))
manual_alert_box = widgets.Output(layout=widgets.Layout(width="100%"))
manual_preview_box = widgets.Output(layout=widgets.Layout(width="100%"))
manual_sample_box = widgets.Output(layout=widgets.Layout(width="100%"))

help_load = widgets.Accordion(children=[widgets.HTML(value="""
<ul>
<li><b>X</b>: Matriz de variables predictoras (columnas).</li>
<li><b>Y</b>: Variable objetivo. Puede tener una o varias columnas; elige una para ordenar la segmentación.</li>
<li><b>Fecha</b>: Columna opcional, usada solo como metadato en la muestra.</li>
<li>Separadores aceptados: coma, punto y coma, tabulación, espacios. Cabeceras opcionales.</li>
</ul>
""")])
help_load.set_title(0, "Ayuda carga de datos (recomendaciones)")


def on_import_manual_clicked(_):
    manual_alert_box.clear_output(); manual_preview_box.clear_output(); manual_sample_box.clear_output()
    with manual_alert_box: print("Procesando...")
    try:
        X_df = parse_text_to_dataframe(x_text.value)
        Y_df = parse_text_to_dataframe(y_text.value)
        Fecha_s = parse_text_to_date_series(fecha_text.value) if fecha_text.value.strip() else None
        ok, msgs = validate_lengths(X_df, Y_df, Fecha_s)
        manual_alert_box.clear_output()
        if not ok:
            with manual_alert_box: display(make_alert_html("; ".join(msgs), level="error")); return
        app_state.set_dataframes(X_df, Y_df, Fecha_s)
        with manual_alert_box: display(make_alert_html("Datos cargados correctamente desde Copiar/Pegar.", level="success"))
        with manual_preview_box: display(build_preview_table(X_df, Y_df, Fecha_s, n=20))
        with manual_sample_box: display(widgets.HTML(value="<b>Muestra (20 primeras filas)</b>"))
        update_segmentation_controls_with_y()
    except Exception as e:
        manual_alert_box.clear_output();
        with manual_alert_box: display(make_alert_html(f"Error al importar manualmente: {e}", level="error"))

btn_import_manual.on_click(on_import_manual_clicked)
manual_form = widgets.VBox([
    widgets.HTML(value="<h3 style='margin:6px 0'>Carga por Copiar/Pegar</h3>"),
    help_load,
    widgets.HBox([
        widgets.VBox([widgets.HTML("<b>X</b>"), x_text], layout=widgets.Layout(flex="1 1 0%", min_width="250px")),
        widgets.VBox([widgets.HTML("<b>Y</b>"), y_text], layout=widgets.Layout(flex="1 1 0%", min_width="250px")),
        widgets.VBox([widgets.HTML("<b>Fecha (opcional)</b>"), fecha_text], layout=widgets.Layout(flex="1 1 0%", min_width="250px")),
    ], layout=widgets.Layout(gap="12px")),
    widgets.HBox([btn_import_manual, widgets.HTML(value="<span style='color:#777;margin-left:8px;'>Cabeceras opcionales, se autodetectan separadores.</span>")]),
    manual_alert_box,
    manual_sample_box,
    manual_preview_box,
])

# --- Excel UI ---
excel_uploader = widgets.FileUpload(accept=".xlsx", multiple=False, description="Subir Excel", layout=widgets.Layout(width="220px"))
sheet_x = widgets.Text(value="X", description="Hoja X", layout=widgets.Layout(width="220px"))
sheet_y = widgets.Text(value="Y", description="Hoja Y", layout=widgets.Layout(width="220px"))
sheet_f = widgets.Text(value="Fecha", description="Hoja Fecha", layout=widgets.Layout(width="260px"))
btn_import_excel = widgets.Button(description="Importar Excel", button_style="primary", icon="file-excel-o", layout=widgets.Layout(width="220px"))
excel_alert_box = widgets.Output(layout=widgets.Layout(width="100%"))
excel_preview_box = widgets.Output(layout=widgets.Layout(width="100%"))
excel_sample_box = widgets.Output(layout=widgets.Layout(width="100%"))

help_excel = widgets.Accordion(children=[widgets.HTML(value="""
<ul>
<li>El archivo debe contener hojas para <b>X</b>, <b>Y</b> y opcionalmente <b>Fecha</b>.</li>
<li>Si los nombres de hoja difieren, indíquelos en los campos.</li>
<li>Y puede tener múltiples columnas; elige una para ordenar la segmentación.</li>
</ul>
""")])
help_excel.set_title(0, "Ayuda carga desde Excel (recomendaciones)")


def on_import_excel_clicked(_):
    excel_alert_box.clear_output(); excel_preview_box.clear_output(); excel_sample_box.clear_output()
    with excel_alert_box: print("Procesando Excel...")
    try:
        content = get_uploaded_bytes(excel_uploader)
        if content is None:
            excel_alert_box.clear_output();
            with excel_alert_box: display(make_alert_html("Suba un archivo .xlsx primero.", level="warning"));
            return
        X_df = parse_excel_bytes_to_dfs(content, sheet_x.value.strip() or "X")
        Y_df = parse_excel_bytes_to_dfs(content, sheet_y.value.strip() or "Y")
        Fecha_s = None
        hoja_f = sheet_f.value.strip()
        if hoja_f:
            df_fecha = parse_excel_bytes_to_dfs(content, hoja_f)
            Fecha_s = pd.to_datetime(df_fecha.iloc[:, 0], errors="coerce") if df_fecha.shape[1] > 0 else pd.Series(dtype="datetime64[ns]")
        ok, msgs = validate_lengths(X_df, Y_df, Fecha_s)
        excel_alert_box.clear_output()
        if not ok:
            with excel_alert_box: display(make_alert_html("; ".join(msgs), level="error")); return
        app_state.set_dataframes(X_df, Y_df, Fecha_s)
        with excel_alert_box: display(make_alert_html("Datos cargados correctamente desde Excel.", level="success"))
        with excel_preview_box: display(build_preview_table(X_df, Y_df, Fecha_s, n=20))
        with excel_sample_box: display(widgets.HTML(value="<b>Muestra (20 primeras filas)</b>"))
        update_segmentation_controls_with_y()
    except Exception as e:
        excel_alert_box.clear_output();
        with excel_alert_box: display(make_alert_html(f"Error al importar Excel: {e}", level="error"))

btn_import_excel.on_click(on_import_excel_clicked)
excel_form = widgets.VBox([
    widgets.HTML(value="<h3 style='margin:6px 0'>Carga desde Excel</h3>"),
    help_excel,
    widgets.HBox([excel_uploader, sheet_x, sheet_y, sheet_f], layout=widgets.Layout(gap="12px", flex_flow="row wrap")),
    btn_import_excel,
    excel_alert_box,
    excel_sample_box,
    excel_preview_box,
])

# ==========================
# SEGMENTACIÓN por Y
# ==========================

def _sorted_index_by_Y(n_rows: int, Y: pd.DataFrame, y_col: str) -> np.ndarray:
    s = pd.to_numeric(Y[y_col], errors="coerce")
    order = s.sort_values(kind="mergesort").index.to_numpy()
    return order

# Holdout por proporción (test en mayor Y)

def make_holdout_by_proportion_Y(n_rows: int, sorted_idx: np.ndarray, test_pct: int) -> List[Dict]:
    test_count = max(1, int(round(n_rows * (test_pct / 100.0))))
    test_idx = sorted_idx[-test_count:]
    train_idx = sorted_idx[:-test_count]
    if len(train_idx) == 0:
        train_idx = sorted_idx[:1]
        test_idx = sorted_idx[1:]
    return [{"name": f"Holdout {test_pct}% (Y)", "train_index": train_idx.tolist(), "test_index": test_idx.tolist()}]

# K-Fold por Y (ordenado)

def make_kfold_Y(n_rows: int, sorted_idx: np.ndarray, k: int) -> List[Dict]:
    segments: List[Dict] = []
    if k < 2:
        return segments
    block = n_rows // k
    if block == 0:
        return segments
    for i in range(1, k):
        test_start = block * i
        test_end = block * (i + 1) if i < k - 1 else n_rows
        test_idx = sorted_idx[test_start:test_end]
        train_idx = sorted_idx[:test_start]
        if len(train_idx) == 0 or len(test_idx) == 0:
            continue
        segments.append({"name": f"FoldY {i}", "train_index": train_idx.tolist(), "test_index": test_idx.tolist()})
    return segments

# Ventanas por rangos de Y

def make_rolling_Y(n_rows: int, sorted_idx: np.ndarray, train_size: int, test_size: int, step: int) -> List[Dict]:
    segments: List[Dict] = []
    if train_size <= 0 or test_size <= 0 or step <= 0:
        return segments
    start = 0
    seg_num = 1
    while start + train_size + test_size <= n_rows:
        train_idx = sorted_idx[start:start + train_size]
        test_idx = sorted_idx[start + train_size:start + train_size + test_size]
        if len(train_idx) > 0 and len(test_idx) > 0:
            segments.append({"name": f"WY{seg_num}", "train_index": train_idx.tolist(), "test_index": test_idx.tolist()})
            seg_num += 1
        start += step
    return segments

# UI segmentación por Y
seg_mode = widgets.Dropdown(
    options=[
        ("Holdout por proporción (Y)", "prop_y"),
        ("K-Fold por Y", "kfold_y"),
        ("Ventanas rodantes por Y", "roll_y"),
    ],
    value="prop_y",
    description="Modo",
    layout=widgets.Layout(width="320px")
)

y_col_dropdown = widgets.Dropdown(options=[], description="Columna Y", layout=widgets.Layout(width="300px"))

# Controles por modo + ayudas
prop_test_pct = widgets.IntSlider(value=20, min=1, max=90, step=1, description="Test %", readout_format="d", layout=widgets.Layout(width="400px"))
help_prop = widgets.Accordion(children=[widgets.HTML(value="""
<p>Divide el dataset ordenado por Y en dos subconjuntos: <b>Train</b> y <b>Test</b>,
reservando el porcentaje indicado para <b>Test</b> en la cola alta de Y.</p>
<ul><li>Recomendado: 10% - 30%</li><li>Rango: 1% - 90%</li></ul>
""")])
help_prop.set_title(0, "Ayuda Holdout por proporción (Y)")

kfold_k = widgets.BoundedIntText(value=5, min=2, max=20, step=1, description="K", layout=widgets.Layout(width="160px"))
help_kfold = widgets.Accordion(children=[widgets.HTML(value="""
<p>Genera <b>K</b> pliegues ordenando por Y. Cada fold usa la parte inferior como Train y el bloque siguiente como Test.</p>
<ul><li>Recomendado: K=5</li><li>Rango: 2 - 20</li></ul>
""")])
help_kfold.set_title(0, "Ayuda K-Fold por Y")

roll_train = widgets.BoundedIntText(value=100, min=1, max=10**9, description="Train tamaño", layout=widgets.Layout(width="200px"))
roll_test = widgets.BoundedIntText(value=20, min=1, max=10**9, description="Test tamaño", layout=widgets.Layout(width="200px"))
roll_step = widgets.BoundedIntText(value=20, min=1, max=10**9, description="Paso", layout=widgets.Layout(width="200px"))
help_roll = widgets.Accordion(children=[widgets.HTML(value="""
<p>Avanza por el dataset ordenado por Y generando ventanas consecutivas Train/Test.</p>
<ul><li>Recomendado: Train=100, Test=20, Paso=20</li><li>Rango: enteros positivos</li></ul>
""")])
help_roll.set_title(0, "Ayuda Ventanas por Y")

seg_config_box = widgets.VBox([])
seg_alert_box = widgets.Output(layout=widgets.Layout(width="100%"))
seg_preview_box = widgets.Output(layout=widgets.Layout(width="100%"))
seg_sample_box = widgets.Output(layout=widgets.Layout(width="100%"))
btn_generate_segments = widgets.Button(description="Generar segmentación", button_style="primary", icon="play", layout=widgets.Layout(width="240px"))


def update_segmentation_controls_with_y():
    seg_alert_box.clear_output()
    if app_state.Y is not None and app_state.Y.shape[1] > 0:
        y_col_dropdown.options = [str(c) for c in app_state.Y.columns]
        if app_state.y_column_for_sort in y_col_dropdown.options:
            y_col_dropdown.value = app_state.y_column_for_sort
        else:
            y_col_dropdown.value = y_col_dropdown.options[0]
    else:
        y_col_dropdown.options = []
        y_col_dropdown.value = None


def refresh_seg_config_box(_=None):
    blocks = [widgets.HBox([y_col_dropdown])]
    if seg_mode.value == "prop_y":
        blocks += [widgets.HBox([prop_test_pct]), help_prop]
    elif seg_mode.value == "kfold_y":
        blocks += [widgets.HBox([kfold_k]), help_kfold]
    elif seg_mode.value == "roll_y":
        blocks += [widgets.HBox([roll_train, roll_test, roll_step]), help_roll]
    seg_config_box.children = blocks

seg_mode.observe(refresh_seg_config_box, names="value")
refresh_seg_config_box()


def on_generate_segments_clicked(_):
    seg_alert_box.clear_output(); seg_preview_box.clear_output(); seg_sample_box.clear_output()
    if app_state.X is None or app_state.Y is None:
        with seg_alert_box: display(make_alert_html("Cargue X e Y antes de segmentar.", level="warning")); return
    if y_col_dropdown.value is None:
        with seg_alert_box: display(make_alert_html("Seleccione la columna de Y.", level="warning")); return
    n = app_state.X.shape[0]
    sorted_idx = _sorted_index_by_Y(n, app_state.Y, y_col_dropdown.value)
    segments: List[Dict] = []
    try:
        if seg_mode.value == "prop_y":
            segments = make_holdout_by_proportion_Y(n, sorted_idx, prop_test_pct.value)
            app_state.segmentation_config = {"mode": "prop_y", "test_pct": prop_test_pct.value, "y_col": y_col_dropdown.value}
        elif seg_mode.value == "kfold_y":
            segments = make_kfold_Y(n, sorted_idx, kfold_k.value)
            app_state.segmentation_config = {"mode": "kfold_y", "k": kfold_k.value, "y_col": y_col_dropdown.value}
        elif seg_mode.value == "roll_y":
            segments = make_rolling_Y(n, sorted_idx, roll_train.value, roll_test.value, roll_step.value)
            app_state.segmentation_config = {"mode": "roll_y", "train": roll_train.value, "test": roll_test.value, "step": roll_step.value, "y_col": y_col_dropdown.value}
        else:
            with seg_alert_box: display(make_alert_html("Modo de segmentación no reconocido.", level="error")); return

        app_state.segments = segments
        if not segments:
            with seg_alert_box: display(make_alert_html("No se generaron segmentos (revise la configuración).", level="warning"))
            return
        # Preview
        html_parts = ["<div style='margin:6px 0'><b>Segmentos generados</b></div>"]
        for seg in segments:
            html_parts.append(
                f"<div style='margin:2px 0'>- {seg['name']}: train={len(seg['train_index'])}, test={len(seg['test_index'])}</div>"
            )
        with seg_preview_box:
            display(widgets.HTML(value="".join(html_parts)))
        with seg_alert_box:
            display(make_alert_html("Segmentación generada correctamente.", level="success"))
        # Tabla muestra de primer segmento
        seg0 = segments[0]
        train_df = build_preview_table(app_state.X.iloc[seg0['train_index']], app_state.Y.iloc[seg0['train_index']], app_state.Fecha.iloc[seg0['train_index']] if app_state.Fecha is not None else None, n=20)
        test_df = build_preview_table(app_state.X.iloc[seg0['test_index']], app_state.Y.iloc[seg0['test_index']], app_state.Fecha.iloc[seg0['test_index']] if app_state.Fecha is not None else None, n=20)
        with seg_sample_box:
            display(widgets.HTML(value="<b>Muestra Train (20 primeras filas)</b>"))
            display(train_df)
            display(widgets.HTML(value="<b>Muestra Test (20 primeras filas)</b>"))
            display(test_df)
    except Exception as e:
        with seg_alert_box:
            display(make_alert_html(f"Error generando segmentación: {e}", level="error"))

btn_generate_segments.on_click(on_generate_segments_clicked)

help_seg_top = widgets.Accordion(children=[widgets.HTML(value="""
<p>La segmentación se realiza <b>ordenando las muestras por la columna Y seleccionada</b>. Configure el modo y parámetros.</p>
""")])
help_seg_top.set_title(0, "Ayuda general de segmentación por Y")

segmentation_form = widgets.VBox([
    widgets.HTML(value="<h3 style='margin:6px 0'>Segmentación por Y</h3>"),
    help_seg_top,
    widgets.HBox([seg_mode]),
    seg_config_box,
    widgets.HBox([btn_generate_segments]),
    seg_alert_box,
    seg_preview_box,
    seg_sample_box,
])

# ==========================
# LAYOUT FINAL Voilà
# ==========================
header = widgets.HTML(value="""
<div style='display:flex;align-items:center;gap:10px'>
  <div style='font-size:20px;font-weight:700'>PMS 4.0.1</div>
  <div style='color:#666'>Carga y Segmentación por Y (X, Y, Fecha)</div>
</div>
""")
footer = widgets.HTML(value="""
<div style='color:#777;font-size:12px;margin-top:6px'>
  Compatible con Voilá. Cargue datos, revise la muestra y configure la segmentación por Y.
</div>
""")

tabs = widgets.Tab(children=[manual_form, excel_form, segmentation_form])
tabs.set_title(0, "Copiar/Pegar")
tabs.set_title(1, "Excel")
tabs.set_title(2, "Segmentación")

app_container = widgets.VBox([header, tabs, footer], layout=widgets.Layout(width="100%"))
app_container