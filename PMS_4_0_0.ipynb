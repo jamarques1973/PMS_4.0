############################################################
# 10. App — Ensamblado principal para Voilà
############################################################

def make_app() -> widgets.Widget:
    # Tabs principales
    tab_help = widgets.VBox([out_help])
    tab_welc = widgets.VBox([out_welcome])
    tab_data = widgets.VBox([out_data])
    tab_seg  = widgets.VBox([out_segment])
    tab_logs = widgets.VBox([out_logs])

    tabs = widgets.Tab(children=[tab_welc, tab_help, tab_data, tab_seg, tab_logs])
    for i, title in enumerate(["Bienvenida", "Ayuda", "Carga", "Segmentación", "Logs"]):
        tabs.set_title(i, title)

    layout = widgets.VBox([
        out_header,
        tabs,
    ], layout=widgets.Layout(gap='10px'))
    return layout

APP = make_app()
APP############################################################
# 9. Vista de cabecera y diccionario de variables
############################################################

def render_top():
    header = widgets.HTML("<div class='pms-title'>PMS 4.0.0 — Inicio</div>")
    btn_dict = widgets.Button(description='Diccionario de variables', icon='table')
    btn_export= widgets.Button(description='Exportar diccionario CSV', icon='download')

    def _show_dict(_):
        df = REGISTRY.as_dataframe()
        with out_header:
            clear_output(wait=True)
            display(widgets.VBox([
                widgets.HTML("<b>Diccionario de variables</b>"),
                df if not df.empty else widgets.HTML("<div class='pms-muted'>No hay variables registradas.</div>")
            ]))

    def _export_dict(_):
        df = REGISTRY.as_dataframe()
        if df.empty:
            LOGGER.warn('No hay variables que exportar')
            return
        csv = df.to_csv(index=False).encode('utf-8')
        b64 = base64.b64encode(csv).decode('utf-8')
        link = f"<a download='pms_variables.csv' href='data:text/csv;base64,{b64}'>Descargar CSV</a>"
        with out_header:
            clear_output(wait=True)
            display(widgets.HTML(link))

    btn_dict.on_click(_show_dict)
    btn_export.on_click(_export_dict)

    with out_header:
        clear_output(wait=True)
        display(widgets.HBox([header, btn_dict, btn_export], layout=widgets.Layout(gap='8px', align_items='center')))

render_top()############################################################
# 8. Segmentación — Train/Test (opción estratificada por Y)
############################################################

seg_test_size   = widgets.FloatSlider(value=0.2, min=0.05, max=0.5, step=0.05, description='% test', readout_format='.0%')
seg_random_state= widgets.IntText(value=42, description='Seed:')
seg_stratify    = widgets.Checkbox(value=False, description='Estratificar por Y')
seg_button      = widgets.Button(description='Segmentar', button_style='primary')
seg_info        = widgets.HTML("<span class='pms-muted'>Requiere X, Y y FECHAS cargados.</span>")

with out_segment:
    clear_output(wait=True)
    display(widgets.VBox([
        widgets.HTML("<div class='pms-title'>🔀 Segmentación Train/Test</div>"),
        widgets.HBox([seg_test_size, seg_random_state, seg_stratify, seg_button, seg_info], layout=widgets.Layout(gap='10px', align_items='center'))
    ]))


def _segmentar(_):
    if not (STATE.exists('X') and STATE.exists('Y') and STATE.exists('FECHAS')):
        LOGGER.error('Primero carga los datos (X, Y, FECHAS).')
        with out_segment:
            clear_output(wait=True)
            display(widgets.HTML("<span style='color:red;'>❌ Debes cargar X, Y y FECHAS antes de segmentar.</span>"))
        return

    X = STATE.get('X')
    Y = STATE.get('Y')
    FECHAS = STATE.get('FECHAS')

    try:
        strat = Y if seg_stratify.value else None
        X_train, X_test, Y_train, Y_test, F_train, F_test = train_test_split(
            X, Y, FECHAS,
            test_size=float(seg_test_size.value),
            random_state=int(seg_random_state.value),
            stratify=strat
        )
        # Guardar en estado
        STATE.set('X_train', X_train, module='Segmentación', description='Matriz X (train)')
        STATE.set('X_test',  X_test,  module='Segmentación', description='Matriz X (test)')
        STATE.set('Y_train', Y_train, module='Segmentación', description='Vector Y (train)')
        STATE.set('Y_test',  Y_test,  module='Segmentación', description='Vector Y (test)')
        STATE.set('FECHAS_train', F_train, module='Segmentación', description='Fechas (train)')
        STATE.set('FECHAS_test',  F_test,  module='Segmentación', description='Fechas (test)')

        resumen = pd.DataFrame({
            'set': ['train','test'],
            'n':   [len(X_train), len(X_test)]
        })
        with out_segment:
            clear_output(wait=True)
            display(widgets.VBox([
                widgets.HTML("<div class='pms-title'>🔀 Segmentación Train/Test</div>"),
                widgets.HTML("<div class='pms-hint'>Segmentación realizada correctamente.</div>"),
                resumen
            ]))
        LOGGER.info('Segmentación realizada con éxito')
    except Exception as e:
        LOGGER.error(f'Error segmentando: {e}')
        with out_segment:
            clear_output(wait=True)
            display(widgets.HTML(f"<span style='color:red;'>❌ {str(e)}</span>"))

seg_button.on_click(_segmentar)############################################################
# 7. Carga de datos — X, Y y Fechas (pegar desde Excel/CSV)
############################################################

# Widgets de entrada
x_text = widgets.Textarea(placeholder='Pega aquí la matriz X con encabezados (tab-separated).', layout=widgets.Layout(width='100%', height='130px'))
y_text = widgets.Textarea(placeholder='Pega aquí la columna Y con encabezado.', layout=widgets.Layout(width='100%', height='130px'))
f_text = widgets.Textarea(placeholder='Pega aquí la columna de fechas (YYYY-MM-DD HH:MM) con encabezado.', layout=widgets.Layout(width='100%', height='120px'))

btn_parse = widgets.Button(description='Procesar datos', button_style='primary')
info_lbl = widgets.HTML("<span class='pms-muted'>Introduce X, Y y Fecha y pulsa 'Procesar'.</span>")

# Salida
with out_data:
    clear_output(wait=True)
    display(widgets.VBox([
        widgets.HTML("<div class='pms-title'>📥 Carga de datos</div>"),
        widgets.HTML("<div class='pms-hint'>Formatos: TSV desde Excel/CSV. Requiere encabezado en cada bloque.</div>"),
        widgets.VBox([
            widgets.HTML("<b>X (predictoras)</b>"), x_text,
            widgets.HTML("<b>Y (objetivo)</b>"), y_text,
            widgets.HTML("<b>Fecha</b>"), f_text,
        ], layout=widgets.Layout(gap='6px')),
        widgets.HBox([btn_parse, info_lbl], layout=widgets.Layout(align_items='center', gap='10px'))
    ]))


def _parse_pasted_table(raw: str, expect_cols: t.Optional[int]=None) -> pd.DataFrame:
    raw = (raw or '').strip()
    if not raw:
        raise ValueError("Entrada vacía")
    df = pd.read_csv(io.StringIO(raw), sep='\t', header=0)
    if expect_cols is not None and df.shape[1] != expect_cols:
        raise ValueError(f"Se esperaban {expect_cols} columnas y se obtuvieron {df.shape[1]}")
    return df


def _on_parse_clicked(_):
    try:
        LOGGER.info("Procesando datos pegados...")
        X_df = _parse_pasted_table(x_text.value)
        Y_df = _parse_pasted_table(y_text.value, expect_cols=1)
        F_df = _parse_pasted_table(f_text.value, expect_cols=1)

        fecha_raw = F_df.iloc[:,0].astype(str).str.strip()
        FECHAS = pd.to_datetime(fecha_raw, errors='coerce', format="%Y-%m-%d %H:%M")
        if FECHAS.isna().sum() > 0:
            raise ValueError("Algunas fechas no se pudieron interpretar. Formato esperado YYYY-MM-DD HH:MM.")

        # Validaciones de dimensiones
        if not (len(X_df)==len(Y_df)==len(FECHAS)):
            raise ValueError("X, Y y FECHAS deben tener el mismo número de filas")

        # Actualizar estado global
        STATE.set('X', X_df, module='Carga de datos', description='Matriz X (predictoras)')
        STATE.set('Y', Y_df.iloc[:,0], module='Carga de datos', description='Vector Y (objetivo)')
        STATE.set('FECHAS', FECHAS, module='Carga de datos', description='Fechas por observación')

        # Estadísticas
        desc = pd.DataFrame({
            'n_muestras': [len(X_df)],
            'n_variables_X': [X_df.shape[1]],
            'n_nulls_X': [int(X_df.isna().sum().sum())],
            'primera_fecha': [FECHAS.min()],
            'ultima_fecha': [FECHAS.max()],
        })

        with out_data:
            clear_output(wait=True)
            display(widgets.VBox([
                widgets.HTML("<div class='pms-title'>📥 Carga de datos</div>"),
                widgets.HTML("<div class='pms-hint'>Datos cargados correctamente.</div>"),
                widgets.HTML("<b>Resumen:</b>"),
                desc,
                widgets.HTML("<b>Muestras de X:</b>"),
                X_df.head(10),
            ]))
        LOGGER.info("Datos cargados y validados correctamente")

    except Exception as e:
        LOGGER.error(f"Error en carga: {e}")
        with out_data:
            clear_output(wait=True)
            display(widgets.HTML(f"<span style='color:red;'>❌ {str(e)}</span>"))

btn_parse.on_click(_on_parse_clicked)############################################################
# 6. UI: Logs — Panel y controles
############################################################

# Panel de logs y controles
_log_level = widgets.Dropdown(options=["DEBUG","INFO","WARN","ERROR"], value="DEBUG", description="Nivel:")
_log_clear = widgets.Button(description="Limpiar", button_style="warning", tooltip="Vaciar buffer de logs")

with out_logs:
    clear_output(wait=True)
    display(widgets.HBox([_log_level, _log_clear]))

LOGGER.attach_output(out_logs)

# Callbacks

def _on_level_change(change):
    if change["name"] == "value":
        LOGGER.set_level(change["new"]) 
        LOGGER.info(f"Nivel de logs cambiado a {change['new']}")

_log_level.observe(_on_level_change, names=["value"]) 


def _on_clear_clicked(_):
    LOGGER.clear()

_log_clear.on_click(_on_clear_clicked)

LOGGER.info("Panel de logs inicializado")############################################################
# 5. UI: Bienvenida
############################################################

def ui_welcome():
    header = widgets.HTML(
        """
        <div class='pms-card'>
          <div style='display:flex;align-items:center;gap:8px;'>
            <div class='pms-title'>👋 Bienvenido/a a PMS 4.0.0</div>
            <span class='pms-badge'>Voilà Ready</span>
          </div>
          <div class='pms-muted'>Plataforma de Modelización y Segmentación</div>
          <p style='margin-top:8px;'>
            Refactor de la versión 3.6.0 con mejoras de UI, rendimiento, logging y estado global.
          </p>
        </div>
        """
    )
    return widgets.VBox([header])

with out_welcome:
    clear_output(wait=True)
    display(ui_welcome())############################################################
# 4. UI: Ayuda Global
############################################################

def ui_help():
    box = widgets.VBox(layout=widgets.Layout(gap='6px'))
    title = widgets.HTML("<div class='pms-title'>📘 Ayuda Global — Guía de uso</div>")
    tabs = widgets.Tab()

    # Bloques de ayuda
    b1 = widgets.HTML("""
    <div class='pms-card'>
      <h4>Bloque 1 — Carga y segmentación</h4>
      <ul>
        <li>Cómo preparar los datos: columnas X (predictoras), Y (objetivo) y Fecha.</li>
        <li>Formatos soportados: pegar desde Excel/CSV con cabecera.</li>
        <li>Segmentación: train/test con opción estratificada (según Y).</li>
      </ul>
    </div>
    """)
    b2 = widgets.HTML("""
    <div class='pms-card'>
      <h4>Bloque 2 — Entrenamiento y predicción</h4>
      <p>Resumen de modelos y parámetros. (Se incluirá en módulos posteriores).</p>
    </div>
    """)
    b3 = widgets.HTML("""
    <div class='pms-card'>
      <h4>Bloque 3 — Optimización de modelos</h4>
      <p>Explicación de técnicas de tuning. (Se incluirá en módulos posteriores).</p>
    </div>
    """)
    b4 = widgets.HTML("""
    <div class='pms-card'>
      <h4>Centro de ayuda</h4>
      <p>Consejos, buenas prácticas y glosario de términos.</p>
    </div>
    """)

    tabs.children = [b1, b2, b3, b4]
    for i, name in enumerate(["Bloque 1", "Bloque 2", "Bloque 3", "Ayuda"]):
        tabs.set_title(i, name)

    box.children = [title, tabs]
    return box

with out_help:
    clear_output(wait=True)
    display(ui_help())############################################################
# 3. LOGGING, REGISTRO DE VARIABLES Y ESTADO GLOBAL
############################################################

@dataclass
class VariableInfo:
    name: str
    description: str
    scope: str                 # 'global' o 'local'
    module: str                # Módulo donde se declara/usa
    dtype: str
    shape: str
    created_at: str            # ISO datetime

class PMSLogger:
    def __init__(self, max_items: int = 5000):
        self.buffer: t.List[dict] = []
        self.max_items = max_items
        self.out_widget: t.Optional[widgets.Output] = None
        self.level_order = {"DEBUG":10, "INFO":20, "WARN":30, "ERROR":40}
        self.current_level = "DEBUG"

    def set_level(self, level: str):
        self.current_level = level.upper()

    def attach_output(self, out: widgets.Output):
        self.out_widget = out
        self.refresh_output()

    def _log(self, level: str, message: str):
        if self.level_order[level] < self.level_order.get(self.current_level, 10):
            return
        ts = datetime.now().isoformat(timespec='seconds')
        rec = {"timestamp": ts, "level": level, "message": message}
        self.buffer.append(rec)
        if len(self.buffer) > self.max_items:
            self.buffer = self.buffer[-self.max_items:]
        self.refresh_output()

    def debug(self, msg: str): self._log("DEBUG", msg)
    def info(self, msg: str):  self._log("INFO",  msg)
    def warn(self, msg: str):  self._log("WARN",  msg)
    def error(self, msg: str): self._log("ERROR", msg)

    def to_dataframe(self) -> pd.DataFrame:
        if not self.buffer:
            return pd.DataFrame(columns=["timestamp","level","message"])
        return pd.DataFrame(self.buffer)

    def refresh_output(self):
        if self.out_widget is None:
            return
        with self.out_widget:
            clear_output(wait=True)
            df = self.to_dataframe().tail(200)
            if df.empty:
                display(HTML("<div class='pms-muted'>Sin logs por ahora.</div>"))
            else:
                display(df)

    def clear(self):
        self.buffer.clear()
        self.refresh_output()

class VariableRegistry:
    def __init__(self, logger: PMSLogger):
        self._vars: t.Dict[str, VariableInfo] = {}
        self.logger = logger

    def _infer_dtype_shape(self, value: t.Any) -> t.Tuple[str, str]:
        try:
            if isinstance(value, pd.DataFrame):
                return ("DataFrame", f"{value.shape}")
            if isinstance(value, pd.Series):
                return ("Series", f"{value.shape}")
            if isinstance(value, np.ndarray):
                return ("ndarray", f"{value.shape}")
            return (type(value).__name__, "-")
        except Exception:
            return (type(value).__name__, "-")

    def register(self, name: str, value: t.Any, scope: str, module: str, description: str = ""):
        dtype, shape = self._infer_dtype_shape(value)
        info = VariableInfo(
            name=name,
            description=description,
            scope=scope,
            module=module,
            dtype=dtype,
            shape=str(shape),
            created_at=datetime.now().isoformat(timespec='seconds')
        )
        self._vars[name] = info
        self.logger.debug(f"Registrada variable '{name}' [{dtype} {shape}] en '{module}' scope={scope}")

    def as_dataframe(self) -> pd.DataFrame:
        if not self._vars:
            return pd.DataFrame(columns=["name","description","scope","module","dtype","shape","created_at"])
        rows = [vars(v) for v in self._vars.values()]
        return pd.DataFrame(rows).sort_values(by=["scope","module","name"]).reset_index(drop=True)

class GlobalState:
    def __init__(self, registry: VariableRegistry, logger: PMSLogger):
        self._values: t.Dict[str, t.Any] = {}
        self.registry = registry
        self.logger = logger

    def set(self, name: str, value: t.Any, module: str, description: str = "", scope: str = "global"):
        self._values[name] = value
        self.registry.register(name=name, value=value, scope=scope, module=module, description=description)
        self.logger.info(f"STATE: set '{name}'")

    def get(self, name: str, default: t.Any=None) -> t.Any:
        return self._values.get(name, default)

    def exists(self, name: str) -> bool:
        return name in self._values

    def clear(self):
        self._values.clear()
        self.logger.warn("STATE limpiado")

# Instancias globales
LOGGER   = PMSLogger()
REGISTRY = VariableRegistry(LOGGER)
STATE    = GlobalState(REGISTRY, LOGGER)
############################################################
# 1. LIBRERÍAS — Core y UI Voilà
############################################################

import os, io, sys, json, time, uuid, base64, typing as t
from dataclasses import dataclass, field
from datetime import datetime

import numpy as np
import pandas as pd

import ipywidgets as widgets
from IPython.display import display, HTML, clear_output
from sklearn.model_selection import train_test_split

############################################################
# Estilos globales Voilà-friendly
############################################################
APP_PRIMARY = "#2563eb"
APP_ACCENT  = "#10b981"
APP_GRAY    = "#6b7280"
APP_BG      = "#ffffff"

STYLE_CSS = f"""
<style>
  :root {{ --pms-primary:{APP_PRIMARY}; --pms-accent:{APP_ACCENT}; --pms-gray:{APP_GRAY}; }}
  .pms-title {{ font-size:20px;font-weight:600;color:var(--pms-primary);margin:6px 0; }}
  .pms-section{{ font-size:16px;font-weight:600;color:#111827;margin:10px 0 6px; }}
  .pms-muted {{ color: var(--pms-gray); }}
  .pms-card  {{ border:1px solid #e5e7eb;border-radius:10px;padding:12px;background:#fff; }}
  button.widget-button {{ border-radius:8px; }}
</style>
"""

display(HTML(STYLE_CSS))

############################################################
# 2. VARIABLES DE SALIDA — Contenedores de salida visibles
############################################################

out_header  = widgets.Output()
out_help    = widgets.Output()
out_welcome = widgets.Output()
out_data    = widgets.Output()
out_segment = widgets.Output()
out_logs    = widgets.Output()<div style="padding:16px 12px;border-bottom:1px solid #e5e7eb;display:flex;align-items:center;gap:12px;">
  <div style="font-size:28px;line-height:1.1;">🔷 <b>PMS 4.0.0</b></div>
  <div style="color:#6b7280;">Plataforma de Modelización y Segmentación — Voilà Ready</div>
  <div style="margin-left:auto;color:#6b7280;">UI optimizada, logs y estado global</div>
</div>

<div style="margin:14px 4px 6px 4px;color:#374151;">
  <p>
    Esta versión 4.0.0 refactoriza la 3.6.0 con una arquitectura unificada dentro de un único notebook, con
    <b>UI profesional</b>, <b>logging</b>, <b>estado global</b> y <b>diccionario de variables</b>.
    Está preparada para ejecutarse en <b>Voilà</b> sin depender de ficheros externos.
  </p>
  <p style="margin-top:8px;">
    Empezamos por los módulos: <b>1) Librerías</b>, <b>2) Variables de salida</b>, <b>3) Ayuda global</b>,
    <b>4) Bienvenida</b>, <b>5.1) Carga de datos</b> y <b>5.2) Segmentación</b>.
  </p>
</div>