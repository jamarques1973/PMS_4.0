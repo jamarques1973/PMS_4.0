# PMS 4.0.4 — Carga (X, Y, Fecha), Segmentación por Y y Selección de Variables — Voilà

from io import StringIO, BytesIO
from typing import Optional, Tuple, List, Dict

import numpy as np
import pandas as pd
import ipywidgets as widgets
from IPython.display import display

from sklearn.feature_selection import f_classif, f_regression, mutual_info_classif, mutual_info_regression, VarianceThreshold, RFE
from sklearn.linear_model import LinearRegression, Lasso, LogisticRegression
from sklearn.ensemble import RandomForestRegressor, RandomForestClassifier
from sklearn.preprocessing import StandardScaler
from sklearn.impute import SimpleImputer
from sklearn.model_selection import KFold, StratifiedKFold
from sklearn.metrics import r2_score, roc_auc_score

try:
    from boruta import BorutaPy
    HAS_BORUTA = True
except Exception:
    HAS_BORUTA = False

LEVEL_TO_COLOR = {"info":"#1f77b4","success":"#2ca02c","warning":"#ff7f0e","error":"#d62728"}

def make_alert_html(message: str, level: str = "info") -> widgets.HTML:
    color = LEVEL_TO_COLOR.get(level, "#333")
    return widgets.HTML(value=(
        f"<div style='padding:8px 12px;border-left:4px solid {color};background:#f9f9fb;border-radius:4px;margin:6px 0;'>"
        f"<span style='color:{color};font-weight:600;text-transform:uppercase;margin-right:8px;'>{level}</span>"
        f"<span style='color:#222'>{message}</span>"
        f"</div>"
    ))

def get_uploaded_bytes(uploader: widgets.FileUpload) -> Optional[bytes]:
    if not uploader.value:
        return None
    if isinstance(uploader.value, dict):
        first_key = next(iter(uploader.value))
        return uploader.value[first_key].get("content")
    if isinstance(uploader.value, tuple) and len(uploader.value) > 0:
        return uploader.value[0].get("content")
    return None

PASTE_SEPARATORS = {"Auto": None, "Tabulación (\t)":"\t", "Punto y coma (;)":";", "Coma (,)":",", "Espacios múltiples": r"\s+"}
DECIMAL_OPTS = {"Auto": None, "Punto (.)":".", "Coma (,)":","}

# Parsing helpers (siempre primera fila = cabecera). Limpieza de primera columna-índice si aplica.

def read_table_from_text(text: str, sep_key: str, dec_key: str) -> pd.DataFrame:
    text = (text or "").strip("\n\r ")
    if text == "":
        return pd.DataFrame()
    seps_to_try = [PASTE_SEPARATORS[sep_key]] if sep_key != "Auto" else ["\t", ";", ",", r"\s+"]
    dec = DECIMAL_OPTS[dec_key]
    best_df, best_score = None, (-1, -1)
    for sep in seps_to_try:
        try:
            kwargs = {"sep": sep, "engine":"python", "header": 0}
            if dec is not None:
                kwargs["decimal"] = dec
            df_try = pd.read_csv(StringIO(text), **kwargs)
            df_try = df_try.dropna(axis=0, how="all").dropna(axis=1, how="all").reset_index(drop=True)
            # Si la primera columna parece índice incremental: eliminar
            if df_try.shape[1] > 1:
                first = df_try.columns[0]
                s0 = df_try[first]
                if s0.dtype.kind in "iu" and (s0.reset_index(drop=True).equals(pd.Series(range(len(s0)))) or s0.reset_index(drop=True).equals(pd.Series(range(1, len(s0)+1)))):
                    df_try = df_try.drop(columns=[first])
            score = (df_try.shape[1], int(df_try.notna().sum().sum()))
            if df_try.shape[1] > 0 and score > best_score:
                best_df, best_score = df_try, score
        except Exception:
            continue
    if best_df is None:
        kwargs = {"sep": r"\s+", "engine":"python", "header": 0}
        if dec is not None:
            kwargs["decimal"] = dec
        best_df = pd.read_csv(StringIO(text), **kwargs)
        best_df = best_df.dropna(axis=0, how="all").dropna(axis=1, how="all").reset_index(drop=True)
    return best_df

def read_table_from_excel(xlsx_bytes: bytes, sheet_name: str) -> pd.DataFrame:
    xf = pd.ExcelFile(BytesIO(xlsx_bytes))
    df = xf.parse(sheet_name, header=0).dropna(axis=0, how="all").dropna(axis=1, how="all").reset_index(drop=True)
    # Quitar primera columna índice incremental si aplica
    if df.shape[1] > 1:
        first = df.columns[0]
        s0 = df[first]
        if s0.dtype.kind in "iu" and (s0.reset_index(drop=True).equals(pd.Series(range(len(s0)))) or s0.reset_index(drop=True).equals(pd.Series(range(1, len(s0)+1)))):
            df = df.drop(columns=[first])
    return df

def validate_shapes(X: Optional[pd.DataFrame], Y: Optional[pd.DataFrame], Fecha: Optional[pd.DataFrame]) -> Tuple[bool, List[str]]:
    msgs: List[str] = []
    if X is None or X.shape[0] == 0:
        msgs.append("X vacío o no cargado.")
    if Y is None or Y.shape[0] == 0:
        msgs.append("Y vacío o no cargado.")
    if msgs:
        return False, msgs
    n = X.shape[0]
    if Y.shape[0] != n:
        msgs.append("X e Y deben tener el mismo número de filas.")
    if Fecha is not None and not Fecha.empty and Fecha.shape[0] != n:
        msgs.append("Fecha debe tener el mismo número de filas que X e Y.")
    return len(msgs) == 0, msgs

def build_sample_table(X: pd.DataFrame, Y: pd.DataFrame, Fecha: Optional[pd.DataFrame], n: int = 20) -> pd.DataFrame:
    df = X.copy()
    df = pd.concat([df, Y.copy()], axis=1)
    if Fecha is not None and not Fecha.empty:
        df = pd.concat([df, Fecha.copy()], axis=1)
    df.insert(0, "Muestra", np.arange(1, len(df) + 1))
    return df.head(n)

class AppState:
    def __init__(self) -> None:
        self.X: Optional[pd.DataFrame] = None
        self.Y: Optional[pd.DataFrame] = None
        self.Fecha: Optional[pd.DataFrame] = None
        self.y_column_for_sort: Optional[str] = None
        self.selection_results: Dict[str, Dict] = {}
        self.selected_X_columns: List[str] = []

    def set_data(self, X: pd.DataFrame, Y: pd.DataFrame, Fecha: Optional[pd.DataFrame]):
        self.X, self.Y, self.Fecha = X, Y, Fecha
        self.y_column_for_sort = str(self.Y.columns[0]) if self.Y.shape[1] >= 1 else None

app = AppState()

# UI Carga
sep_x = widgets.Dropdown(options=list(PASTE_SEPARATORS.keys()), value="Auto", description="Sep X")
dec_x = widgets.Dropdown(options=list(DECIMAL_OPTS.keys()), value="Auto", description="Dec X")
sep_y = widgets.Dropdown(options=list(PASTE_SEPARATORS.keys()), value="Auto", description="Sep Y")
dec_y = widgets.Dropdown(options=list(DECIMAL_OPTS.keys()), value="Auto", description="Dec Y")
sep_f = widgets.Dropdown(options=list(PASTE_SEPARATORS.keys()), value="Auto", description="Sep Fecha")
dec_f = widgets.Dropdown(options=list(DECIMAL_OPTS.keys()), value="Auto", description="Dec Fecha")

x_text = widgets.Textarea(placeholder="Pegue aquí X (primera fila = nombres)", layout=widgets.Layout(width="100%", height="120px"))
y_text = widgets.Textarea(placeholder="Pegue aquí Y (primera fila = nombres; 1+ columnas)", layout=widgets.Layout(width="100%", height="120px"))
fecha_text = widgets.Textarea(placeholder="Pegue aquí Fecha (primera fila = nombres)", layout=widgets.Layout(width="100%", height="120px"))

btn_import_paste = widgets.Button(description="Importar (Copiar/Pegar)", button_style="primary", icon="download")
load_alert = widgets.Output(); load_preview_title = widgets.HTML(value=""); load_preview = widgets.Output()

def on_import_paste(_):
    load_alert.clear_output(); load_preview.clear_output(); load_preview_title.value = ""
    try:
        X_df = read_table_from_text(x_text.value, sep_x.value, dec_x.value)
        Y_df = read_table_from_text(y_text.value, sep_y.value, dec_y.value)
        Fecha_df = None
        if fecha_text.value.strip() != "":
            Fecha_df = read_table_from_text(fecha_text.value, sep_f.value, dec_f.value)
            try: Fecha_df = Fecha_df.apply(pd.to_datetime, errors="coerce")
            except Exception: pass
        ok, msgs = validate_shapes(X_df, Y_df, Fecha_df)
        if not ok:
            with load_alert: display(make_alert_html("; ".join(msgs), level="error")); return
        app.set_data(X_df, Y_df, Fecha_df)
        with load_alert: display(make_alert_html("Datos importados (copiar/pegar) correctamente.", level="success"))
        load_preview_title.value = "<b>Muestra (20 primeras filas)</b>"
        with load_preview: display(build_sample_table(X_df, Y_df, Fecha_df, n=20))
        refresh_select_y()
    except Exception as e:
        with load_alert: display(make_alert_html(f"Error importando: {e}", level="error"))

btn_import_paste.on_click(on_import_paste)

excel_uploader = widgets.FileUpload(accept=".xlsx", multiple=False, description="Subir Excel")
sheet_x = widgets.Text(value="X", description="Hoja X")
sheet_y = widgets.Text(value="Y", description="Hoja Y")
sheet_f = widgets.Text(value="Fecha", description="Hoja Fecha")
btn_import_excel = widgets.Button(description="Importar Excel", button_style="primary", icon="file-excel-o")
excel_alert = widgets.Output(); excel_preview_title = widgets.HTML(value=""); excel_preview = widgets.Output()

def on_import_excel(_):
    excel_alert.clear_output(); excel_preview.clear_output(); excel_preview_title.value = ""
    try:
        content = get_uploaded_bytes(excel_uploader)
        if content is None:
            with excel_alert: display(make_alert_html("Suba un archivo .xlsx primero.", level="warning")); return
        X_df = read_table_from_excel(content, sheet_x.value.strip() or "X")
        Y_df = read_table_from_excel(content, sheet_y.value.strip() or "Y")
        Fecha_df = None
        hoja_f = sheet_f.value.strip()
        if hoja_f:
            Fecha_df = read_table_from_excel(content, hoja_f)
            try: Fecha_df = Fecha_df.apply(pd.to_datetime, errors="coerce")
            except Exception: pass
        ok, msgs = validate_shapes(X_df, Y_df, Fecha_df)
        if not ok:
            with excel_alert: display(make_alert_html("; ".join(msgs), level="error")); return
        app.set_data(X_df, Y_df, Fecha_df)
        with excel_alert: display(make_alert_html("Datos importados (Excel) correctamente.", level="success"))
        excel_preview_title.value = "<b>Muestra (20 primeras filas)</b>"
        with excel_preview: display(build_sample_table(X_df, Y_df, Fecha_df, n=20))
        refresh_select_y()
    except Exception as e:
        with excel_alert: display(make_alert_html(f"Error importando Excel: {e}", level="error"))

btn_import_excel.on_click(on_import_excel)

paste_form = widgets.VBox([
    widgets.HTML(value="<h3 style='margin:6px 0'>Carga por Copiar/Pegar</h3>"),
    widgets.HBox([widgets.VBox([widgets.HTML("<b>Formato X</b>"), sep_x, dec_x]),
                  widgets.VBox([widgets.HTML("<b>Formato Y</b>"), sep_y, dec_y]),
                  widgets.VBox([widgets.HTML("<b>Formato Fecha</b>"), sep_f, dec_f])], layout=widgets.Layout(gap="12px", flex_flow="row wrap")),
    widgets.HBox([widgets.VBox([widgets.HTML("<b>X</b>"), x_text], layout=widgets.Layout(flex="1 1 0%")),
                  widgets.VBox([widgets.HTML("<b>Y</b>"), y_text], layout=widgets.Layout(flex="1 1 0%")),
                  widgets.VBox([widgets.HTML("<b>Fecha</b>"), fecha_text], layout=widgets.Layout(flex="1 1 0%"))], layout=widgets.Layout(gap="12px")),
    btn_import_paste,
    load_alert,
    load_preview_title,
    load_preview,
])

excel_form = widgets.VBox([
    widgets.HTML(value="<h3 style='margin:6px 0'>Carga desde Excel</h3>"),
    widgets.HBox([excel_uploader, sheet_x, sheet_y, sheet_f], layout=widgets.Layout(gap="12px", flex_flow="row wrap")),
    btn_import_excel,
    excel_alert,
    excel_preview_title,
    excel_preview,
])

# Segmentación (idéntica al paso anterior; omitida aquí por brevedad)

def _sorted_index_by_Y(Y: pd.DataFrame, y_col: str) -> np.ndarray:
    s = pd.to_numeric(Y[y_col], errors="coerce"); return s.sort_values(kind="mergesort").index.to_numpy()

y_col_dropdown = widgets.Dropdown(options=[], description="Columna Y")

def refresh_select_y():
    if app.Y is not None and app.Y.shape[1] > 0:
        y_col_dropdown.options = [str(c) for c in app.Y.columns]
        y_col_dropdown.value = app.y_column_for_sort or y_col_dropdown.options[0]
    else:
        y_col_dropdown.options = []; y_col_dropdown.value = None

# Selección (se reutiliza el bloque de 4.0.4 previo pero garantizando visualización)

# Métodos toggles y parámetros (simplificado)
run_pearson = widgets.Checkbox(value=True, description="Pearson")
run_spearman = widgets.Checkbox(value=False, description="Spearman")
run_mi = widgets.Checkbox(value=False, description="MutualInfo")
run_boruta = widgets.Checkbox(value=False, description=f"Boruta{' (OK)' if HAS_BORUTA else ' (instalar)'}")
run_uamp = widgets.Checkbox(value=False, description="UAMP")

k_top = widgets.BoundedIntText(value=10, min=1, max=10000, step=1, description="Top k")
mi_neighbors = widgets.BoundedIntText(value=3, min=2, max=50, step=1, description="MI vecinos")
random_state = widgets.BoundedIntText(value=42, min=0, max=999999, step=1, description="seed")

sel_alert = widgets.Output(); out_methods = widgets.Output(); sel_union = widgets.Output(); sel_preview = widgets.Output()
btn_run_all = widgets.Button(description="Calcular selección y unión", button_style="primary", icon="cogs")


def _coerce_problem(y: pd.Series) -> str:
    try:
        y_num = pd.to_numeric(y, errors="coerce"); return "reg" if y_num.notna().mean() > 0.8 else "clf"
    except Exception:
        return "clf"

def _prep_Xy(X: pd.DataFrame, y: pd.Series) -> Tuple[np.ndarray, np.ndarray, List[str]]:
    Xn = X.copy(); feat = list(Xn.columns)
    imp = SimpleImputer(strategy="mean"); Xn[:] = imp.fit_transform(Xn)
    sc = StandardScaler(); Xn[:] = sc.fit_transform(Xn)
    prob = _coerce_problem(y)
    if prob == "reg":
        yv = pd.to_numeric(y, errors="coerce").fillna(y.median() if pd.api.types.is_numeric_dtype(y) else 0).to_numpy()
    else:
        yv = pd.factorize(y.astype(str))[0]
    return Xn.to_numpy(), yv, feat


def on_run_all(_):
    sel_alert.clear_output(); out_methods.clear_output(); sel_union.clear_output(); sel_preview.clear_output()
    if app.X is None or app.Y is None or y_col_dropdown.value is None:
        with sel_alert: display(make_alert_html("Cargue datos y seleccione Y.", level="warning")); return
    y = app.Y[y_col_dropdown.value]
    X = app.X
    Xn, yv, feat = _prep_Xy(X, y)
    ran_any = False
    results_html = []

    # Pearson
    if run_pearson.value:
        ran_any = True
        vals = []
        ys = pd.Series(yv)
        for j in range(len(feat)):
            c = pd.Series(Xn[:, j]).corr(ys, method="pearson"); vals.append(abs(c))
        dfp = pd.DataFrame({"feature": feat, "score": vals}).fillna(0.0).sort_values("score", ascending=False)
        app.selection_results['pearson'] = {'scores': dfp, 'selected': dfp.head(k_top.value)["feature"].tolist()}
        results_html.append("<b>Pearson</b><br>" + dfp.head(10).to_html(index=False))

    # Spearman
    if run_spearman.value:
        ran_any = True
        vals = []
        ys = pd.Series(yv)
        for j in range(len(feat)):
            c = pd.Series(Xn[:, j]).corr(ys, method="spearman"); vals.append(abs(c))
        dfs = pd.DataFrame({"feature": feat, "score": vals}).fillna(0.0).sort_values("score", ascending=False)
        app.selection_results['spearman'] = {'scores': dfs, 'selected': dfs.head(k_top.value)["feature"].tolist()}
        results_html.append("<b>Spearman</b><br>" + dfs.head(10).to_html(index=False))

    # Mutual Info
    if run_mi.value:
        ran_any = True
        if _coerce_problem(y) == "reg":
            mi = mutual_info_regression(Xn, yv, n_neighbors=mi_neighbors.value, random_state=random_state.value)
        else:
            mi = mutual_info_classif(Xn, yv, random_state=random_state.value)
        dfmi = pd.DataFrame({"feature": feat, "score": mi}).fillna(0.0).sort_values("score", ascending=False)
        app.selection_results['mutual_info'] = {'scores': dfmi, 'selected': dfmi.head(k_top.value)["feature"].tolist()}
        results_html.append("<b>MutualInfo</b><br>" + dfmi.head(10).to_html(index=False))

    # Boruta
    if run_boruta.value:
        ran_any = True
        if not HAS_BORUTA:
            results_html.append("<b>Boruta</b>: no disponible (instale boruta)")
        else:
            if _coerce_problem(y) == "reg":
                est = RandomForestRegressor(n_estimators=200, random_state=random_state.value, n_jobs=-1)
            else:
                est = RandomForestClassifier(n_estimators=200, random_state=random_state.value, n_jobs=-1)
            selector = BorutaPy(estimator=est, n_estimators='auto', alpha=0.05, max_iter=100, random_state=random_state.value, verbose=0)
            selector.fit(Xn, yv)
            mask = selector.support_.tolist(); ranks = selector.ranking_.tolist()
            dfb = pd.DataFrame({"feature": feat, "selected": mask, "rank": ranks}).sort_values(["selected","rank"], ascending=[False, True])
            selb = [f for f, m in zip(feat, mask) if m]
            if not selb:
                selb = dfb.head(k_top.value)["feature"].tolist()
            app.selection_results['boruta'] = {'scores': dfb, 'selected': selb}
            results_html.append("<b>Boruta</b><br>" + dfb.head(10).to_html(index=False))

    # UAMP
    if run_uamp.value:
        ran_any = True
        scores = []
        if _coerce_problem(y) == "reg":
            kf = KFold(n_splits=5, shuffle=True, random_state=random_state.value)
            for j in range(len(feat)):
                model = LinearRegression(); vals = []
                for tr, te in kf.split(Xn):
                    model.fit(Xn[tr, [j]], yv[tr]); pred = model.predict(Xn[te, [j]])
                    vals.append(r2_score(yv[te], pred))
                scores.append(float(np.mean(vals)))
        else:
            skf = StratifiedKFold(n_splits=5, shuffle=True, random_state=random_state.value)
            for j in range(len(feat)):
                model = LogisticRegression(max_iter=1000, solver="liblinear"); vals = []
                for tr, te in skf.split(Xn, yv):
                    model.fit(Xn[tr, [j]], yv[tr]); proba = model.predict_proba(Xn[te, [j]])
                    try:
                        if proba.shape[1] == 2:
                            vals.append(roc_auc_score(yv[te], proba[:,1]))
                        else:
                            vals.append(roc_auc_score(yv[te], proba, multi_class='ovr'))
                    except Exception:
                        vals.append(np.nan)
                scores.append(float(np.nanmean(vals)))
        dfu = pd.DataFrame({"feature": feat, "score": scores}).fillna(0.0).sort_values("score", ascending=False)
        app.selection_results['uamp'] = {'scores': dfu, 'selected': dfu.head(k_top.value)["feature"].tolist()}
        results_html.append("<b>UAMP</b><br>" + dfu.head(10).to_html(index=False))

    if not ran_any:
        with sel_alert: display(make_alert_html("Seleccione al menos un método.", level="warning")); return

    # Presentación de resultados por método
    with out_methods:
        out_methods.clear_output()
        display(widgets.HTML(value="<h4>Resultados por método (Top 10 en tabla)</h4>"))
        for block in results_html:
            display(widgets.HTML(value=block))

    # Unión final
    union_set = set()
    for key, res in app.selection_results.items():
        union_set.update(res.get('selected', []))
    final_list = sorted(list(union_set))
    app.selected_X_columns = final_list

    with sel_union:
        display(widgets.HTML(value=f"<b>Selección final (unión) — {len(final_list)} variables</b>"))
        display(pd.DataFrame({"feature": final_list}))
    with sel_preview:
        if final_list:
            display(widgets.HTML(value="<b>Muestra con X seleccionadas (20 filas)</b>"))
            display(build_sample_table(app.X[final_list], app.Y, app.Fecha, n=20))
    with sel_alert:
        display(make_alert_html("Cálculo completado.", level="success"))

btn_run_all.on_click(on_run_all)

selection_form = widgets.VBox([
    widgets.HTML(value="<h3 style='margin:6px 0'>Selección de variables</h3>"),
    widgets.HBox([widgets.VBox([widgets.HTML("<b>Y</b>"), y_col_dropdown]), widgets.VBox([widgets.HTML("<b>Top</b>"), k_top]), widgets.VBox([widgets.HTML("<b>Semilla</b>"), random_state])], layout=widgets.Layout(gap="12px", flex_flow="row wrap")),
    widgets.HBox([run_pearson, run_spearman, run_mi, run_boruta, run_uamp, widgets.VBox([widgets.HTML("MI vecinos"), mi_neighbors])], layout=widgets.Layout(gap="12px", flex_flow="row wrap")),
    widgets.HBox([btn_run_all]),
    sel_alert,
    out_methods,
    sel_union,
    sel_preview,
])

header = widgets.HTML(value="<div style='font-size:20px;font-weight:700'>PMS 4.0.4</div>")
footer = widgets.HTML(value="<div style='color:#777;font-size:12px;margin-top:6px'>Compatible con Voilá.</div>")

tabs = widgets.Tab(children=[paste_form, excel_form, selection_form])
for i, t in enumerate(["Copiar/Pegar", "Excel", "Selección"]): tabs.set_title(i, t)
widgets.VBox([header, tabs, footer])