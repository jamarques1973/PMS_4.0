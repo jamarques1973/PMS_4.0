# PMS 4.0.1 — Carga (X, Y, Fecha) y Segmentación por Y — Voilà

from io import StringIO, BytesIO
from typing import Optional, Tuple, List, Dict

import numpy as np
import pandas as pd
import ipywidgets as widgets
from IPython.display import display

# ==========================
# Helpers UI
# ==========================
LEVEL_TO_COLOR = {"info":"#1f77b4","success":"#2ca02c","warning":"#ff7f0e","error":"#d62728"}

def make_alert_html(message: str, level: str = "info") -> widgets.HTML:
    color = LEVEL_TO_COLOR.get(level, "#333")
    return widgets.HTML(value=(
        f"<div style='padding:8px 12px;border-left:4px solid {color};background:#f9f9fb;border-radius:4px;margin:6px 0;'>"
        f"<span style='color:{color};font-weight:600;text-transform:uppercase;margin-right:8px;'>{level}</span>"
        f"<span style='color:#222'>{message}</span>"
        f"</div>"
    ))

def get_uploaded_bytes(uploader: widgets.FileUpload) -> Optional[bytes]:
    if not uploader.value:
        return None
    if isinstance(uploader.value, dict):
        first_key = next(iter(uploader.value))
        return uploader.value[first_key].get("content")
    if isinstance(uploader.value, tuple) and len(uploader.value) > 0:
        return uploader.value[0].get("content")
    return None

# ==========================
# Parsing que preserva nombres de columnas exactos
# ==========================

PASTE_SEPARATORS = {
    "Auto": None,
    "Tabulación (\t)": "\t",
    "Punto y coma (;)": ";",
    "Coma (,)": ",",
    "Espacios múltiples": r"\s+",
}

DECIMAL_OPTS = {
    "Auto": None,
    "Punto (.)": ".",
    "Coma (,)": ",",
}

HEADER_OPTS = {
    "Con cabecera (primera fila)": 0,
    "Sin cabecera": None,
}

def read_table_from_text(text: str, sep_key: str, dec_key: str, header_key: str) -> pd.DataFrame:
    text = (text or "").strip("\n\r ")
    if text == "":
        return pd.DataFrame()
    sep = PASTE_SEPARATORS[sep_key]
    dec = DECIMAL_OPTS[dec_key]
    header = HEADER_OPTS[header_key]

    # No limpiar cabeceras ni columnas: preservar nombres tal cual
    try:
        df = pd.read_csv(StringIO(text), sep=sep, engine="python", decimal=dec, header=header)
    except Exception:
        # fallback por espacios
        df = pd.read_csv(StringIO(text), sep=r"\s+", engine="python", header=header)
    # Eliminar filas/columnas totalmente vacías pero preservar nombres
    df = df.dropna(axis=0, how="all").dropna(axis=1, how="all").reset_index(drop=True)
    return df

# Excel

def read_table_from_excel(xlsx_bytes: bytes, sheet_name: str) -> pd.DataFrame:
    xf = pd.ExcelFile(BytesIO(xlsx_bytes))
    df = xf.parse(sheet_name, header=0)
    df = df.dropna(axis=0, how="all").dropna(axis=1, how="all").reset_index(drop=True)
    return df

# ==========================
# Validación y muestra
# ==========================

def validate_shapes(X: Optional[pd.DataFrame], Y: Optional[pd.DataFrame], Fecha: Optional[pd.DataFrame]) -> Tuple[bool, List[str]]:
    msgs: List[str] = []
    if X is None or X.shape[0] == 0:
        msgs.append("X vacío o no cargado.")
    if Y is None or Y.shape[0] == 0:
        msgs.append("Y vacío o no cargado.")
    if msgs:
        return False, msgs
    n = X.shape[0]
    if Y.shape[0] != n:
        msgs.append("X e Y deben tener el mismo número de filas.")
    if Fecha is not None and Fecha.shape[0] > 0 and Fecha.shape[0] != n:
        msgs.append("Fecha debe tener el mismo número de filas que X e Y.")
    return len(msgs) == 0, msgs


def build_sample_table(X: pd.DataFrame, Y: pd.DataFrame, Fecha: Optional[pd.DataFrame], n: int = 20) -> pd.DataFrame:
    df = X.copy()
    # Asegurar que Y conserva sus nombres originales (soporta múltiples columnas y caracteres especiales)
    y_df = Y.copy()
    df = pd.concat([df, y_df], axis=1)
    if Fecha is not None and not Fecha.empty:
        # Conservar nombres originales de las columnas de Fecha
        df = pd.concat([df, Fecha.copy()], axis=1)
    df.insert(0, "Muestra", np.arange(1, len(df) + 1))
    return df.head(n)

# ==========================
# Estado de la app
# ==========================
class AppState:
    def __init__(self) -> None:
        self.X: Optional[pd.DataFrame] = None
        self.Y: Optional[pd.DataFrame] = None
        self.Fecha: Optional[pd.DataFrame] = None  # Fecha es DataFrame de una o más columnas tipo fecha
        self.y_column_for_sort: Optional[str] = None
        self.segments: List[Dict] = []
        self.segmentation_config: Dict = {}

    def set_data(self, X: pd.DataFrame, Y: pd.DataFrame, Fecha: Optional[pd.DataFrame]):
        self.X, self.Y, self.Fecha = X, Y, Fecha
        # Columna Y por defecto: primera de Y
        self.y_column_for_sort = str(self.Y.columns[0]) if self.Y is not None and self.Y.shape[1] >= 1 else None

app = AppState()

# ==========================
# UI Carga manual (copy/paste) con controles como PMS_3_6_0
# ==========================

# Controles de formato
sep_x = widgets.Dropdown(options=list(PASTE_SEPARATORS.keys()), value="Auto", description="Sep X")
dec_x = widgets.Dropdown(options=list(DECIMAL_OPTS.keys()), value="Auto", description="Dec X")
head_x = widgets.Dropdown(options=list(HEADER_OPTS.keys()), value="Con cabecera (primera fila)", description="Cab X")
sep_y = widgets.Dropdown(options=list(PASTE_SEPARATORS.keys()), value="Auto", description="Sep Y")
dec_y = widgets.Dropdown(options=list(DECIMAL_OPTS.keys()), value="Auto", description="Dec Y")
head_y = widgets.Dropdown(options=list(HEADER_OPTS.keys()), value="Con cabecera (primera fila)", description="Cab Y")
sep_f = widgets.Dropdown(options=list(PASTE_SEPARATORS.keys()), value="Auto", description="Sep Fecha")
dec_f = widgets.Dropdown(options=list(DECIMAL_OPTS.keys()), value="Auto", description="Dec Fecha")
head_f = widgets.Dropdown(options=list(HEADER_OPTS.keys()), value="Con cabecera (primera fila)", description="Cab Fecha")

x_text = widgets.Textarea(placeholder="Pegue aquí X (cabecera opcional)", layout=widgets.Layout(width="100%", height="120px"))
y_text = widgets.Textarea(placeholder="Pegue aquí Y (cabecera opcional)", layout=widgets.Layout(width="100%", height="120px"))
fecha_text = widgets.Textarea(placeholder="Pegue aquí Fecha (cabecera opcional, puede ser 1+ columnas)", layout=widgets.Layout(width="100%", height="120px"))

btn_import_paste = widgets.Button(description="Importar (Copiar/Pegar)", button_style="primary", icon="download")
load_alert = widgets.Output()
load_preview_title = widgets.HTML(value="")
load_preview = widgets.Output()

help_paste = widgets.Accordion(children=[widgets.HTML(value="""
<p>Configura el separador, el carácter decimal y si la primera fila es cabecera.
Se preservan exactamente los nombres de columna (pueden incluir números, letras y caracteres especiales como \\ / % ...).</p>
""")])
help_paste.set_title(0, "Ayuda: Copiar/Pegar")


def on_import_paste(_):
    load_alert.clear_output(); load_preview.clear_output(); load_preview_title.value = ""
    try:
        X_df = read_table_from_text(x_text.value, sep_x.value, dec_x.value, head_x.value)
        Y_df = read_table_from_text(y_text.value, sep_y.value, dec_y.value, head_y.value)
        Fecha_df = None
        if fecha_text.value.strip() != "":
            Fecha_df = read_table_from_text(fecha_text.value, sep_f.value, dec_f.value, head_f.value)
        ok, msgs = validate_shapes(X_df, Y_df, Fecha_df)
        if not ok:
            with load_alert:
                display(make_alert_html("; ".join(msgs), level="error"))
            return
        app.set_data(X_df, Y_df, Fecha_df)
        with load_alert:
            display(make_alert_html("Datos importados (copiar/pegar) correctamente.", level="success"))
        with load_preview_title:
            load_preview_title.value = "<b>Muestra (20 primeras filas)</b>"
        with load_preview:
            display(build_sample_table(X_df, Y_df, Fecha_df, n=20))
        refresh_y_selector()
    except Exception as e:
        with load_alert:
            display(make_alert_html(f"Error importando: {e}", level="error"))

btn_import_paste.on_click(on_import_paste)

paste_form = widgets.VBox([
    widgets.HTML(value="<h3 style='margin:6px 0'>Carga por Copiar/Pegar</h3>"),
    help_paste,
    widgets.HBox([widgets.VBox([widgets.HTML("<b>Formato X</b>"), sep_x, dec_x, head_x]),
                  widgets.VBox([widgets.HTML("<b>Formato Y</b>"), sep_y, dec_y, head_y]),
                  widgets.VBox([widgets.HTML("<b>Formato Fecha</b>"), sep_f, dec_f, head_f])], layout=widgets.Layout(gap="12px", flex_flow="row wrap")),
    widgets.HBox([widgets.VBox([widgets.HTML("<b>X</b>"), x_text], layout=widgets.Layout(flex="1 1 0%")),
                  widgets.VBox([widgets.HTML("<b>Y</b>"), y_text], layout=widgets.Layout(flex="1 1 0%")),
                  widgets.VBox([widgets.HTML("<b>Fecha</b>"), fecha_text], layout=widgets.Layout(flex="1 1 0%"))], layout=widgets.Layout(gap="12px")),
    btn_import_paste,
    load_alert,
    load_preview_title,
    load_preview,
])

# ==========================
# Carga desde Excel
# ==========================
excel_uploader = widgets.FileUpload(accept=".xlsx", multiple=False, description="Subir Excel")
sheet_x = widgets.Text(value="X", description="Hoja X")
sheet_y = widgets.Text(value="Y", description="Hoja Y")
sheet_f = widgets.Text(value="Fecha", description="Hoja Fecha")
btn_import_excel = widgets.Button(description="Importar Excel", button_style="primary", icon="file-excel-o")
excel_alert = widgets.Output()
excel_preview_title = widgets.HTML(value="")
excel_preview = widgets.Output()

help_excel = widgets.Accordion(children=[widgets.HTML(value="""
<p>El Excel debe incluir hojas para X, Y y opcionalmente Fecha.
Se preservan exactamente los nombres de columna.</p>
""")])
help_excel.set_title(0, "Ayuda: Excel")


def on_import_excel(_):
    excel_alert.clear_output(); excel_preview.clear_output(); excel_preview_title.value = ""
    try:
        content = get_uploaded_bytes(excel_uploader)
        if content is None:
            with excel_alert: display(make_alert_html("Suba un archivo .xlsx primero.", level="warning")); return
        X_df = read_table_from_excel(content, sheet_x.value.strip() or "X")
        Y_df = read_table_from_excel(content, sheet_y.value.strip() or "Y")
        Fecha_df = None
        hoja_f = sheet_f.value.strip()
        if hoja_f:
            Fecha_df = read_table_from_excel(content, hoja_f)
        ok, msgs = validate_shapes(X_df, Y_df, Fecha_df)
        if not ok:
            with excel_alert: display(make_alert_html("; ".join(msgs), level="error")); return
        app.set_data(X_df, Y_df, Fecha_df)
        with excel_alert: display(make_alert_html("Datos importados (Excel) correctamente.", level="success"))
        with excel_preview_title:
            excel_preview_title.value = "<b>Muestra (20 primeras filas)</b>"
        with excel_preview:
            display(build_sample_table(X_df, Y_df, Fecha_df, n=20))
        refresh_y_selector()
    except Exception as e:
        with excel_alert:
            display(make_alert_html(f"Error importando Excel: {e}", level="error"))

btn_import_excel.on_click(on_import_excel)

excel_form = widgets.VBox([
    widgets.HTML(value="<h3 style='margin:6px 0'>Carga desde Excel</h3>"),
    help_excel,
    widgets.HBox([excel_uploader, sheet_x, sheet_y, sheet_f], layout=widgets.Layout(gap="12px", flex_flow="row wrap")),
    btn_import_excel,
    excel_alert,
    excel_preview_title,
    excel_preview,
])

# ==========================
# Segmentación por Y (misma que antes, usando Y_col)
# ==========================

def _sorted_index_by_Y(Y: pd.DataFrame, y_col: str) -> np.ndarray:
    s = pd.to_numeric(Y[y_col], errors="coerce")
    return s.sort_values(kind="mergesort").index.to_numpy()

seg_mode = widgets.Dropdown(options=[("Holdout por proporción (Y)", "prop_y"), ("K-Fold por Y", "kfold_y"), ("Ventanas por Y", "roll_y")], value="prop_y", description="Modo")
y_col_dropdown = widgets.Dropdown(options=[], description="Columna Y")
prop_test_pct = widgets.IntSlider(value=20, min=1, max=90, step=1, description="Test %", readout_format="d")
kfold_k = widgets.BoundedIntText(value=5, min=2, max=20, step=1, description="K")
roll_train = widgets.BoundedIntText(value=100, min=1, max=10**9, description="Train tamaño")
roll_test = widgets.BoundedIntText(value=20, min=1, max=10**9, description="Test tamaño")
roll_step = widgets.BoundedIntText(value=20, min=1, max=10**9, description="Paso")

help_prop = widgets.Accordion(children=[widgets.HTML(value="Holdout por Y: reserva el % más alto de Y para Test. Recomendado 10-30%. Rango 1-90%.")])
help_prop.set_title(0, "Ayuda Holdout (Y)")
help_kfold = widgets.Accordion(children=[widgets.HTML(value="K-fold ordenado por Y. Recomendado K=5. Rango 2-20.")])
help_kfold.set_title(0, "Ayuda K-Fold (Y)")
help_roll = widgets.Accordion(children=[widgets.HTML(value="Ventanas consecutivas en Y: define tamaños de Train/Test y Paso.")])
help_roll.set_title(0, "Ayuda Ventanas (Y)")

seg_alert = widgets.Output()
seg_info = widgets.Output()
seg_sample = widgets.Output()
btn_segments = widgets.Button(description="Generar segmentación", button_style="primary", icon="play")


def refresh_y_selector():
    if app.Y is not None and app.Y.shape[1] > 0:
        y_col_dropdown.options = [str(c) for c in app.Y.columns]
        y_col_dropdown.value = app.y_column_for_sort or y_col_dropdown.options[0]
    else:
        y_col_dropdown.options = []
        y_col_dropdown.value = None


def make_holdout_by_proportion_Y(n_rows: int, sorted_idx: np.ndarray, test_pct: int) -> List[Dict]:
    test_count = max(1, int(round(n_rows * (test_pct / 100.0))))
    test_idx = sorted_idx[-test_count:]
    train_idx = sorted_idx[:-test_count]
    if len(train_idx) == 0:
        train_idx = sorted_idx[:1]
        test_idx = sorted_idx[1:]
    return [{"name": f"Holdout {test_pct}% (Y)", "train_index": train_idx.tolist(), "test_index": test_idx.tolist()}]


def make_kfold_Y(n_rows: int, sorted_idx: np.ndarray, k: int) -> List[Dict]:
    segs: List[Dict] = []
    if k < 2:
        return segs
    block = n_rows // k
    if block == 0:
        return segs
    for i in range(1, k):
        test_start = block * i
        test_end = block * (i + 1) if i < k - 1 else n_rows
        test_idx = sorted_idx[test_start:test_end]
        train_idx = sorted_idx[:test_start]
        if len(train_idx) == 0 or len(test_idx) == 0:
            continue
        segs.append({"name": f"FoldY {i}", "train_index": train_idx.tolist(), "test_index": test_idx.tolist()})
    return segs


def make_rolling_Y(n_rows: int, sorted_idx: np.ndarray, train_size: int, test_size: int, step: int) -> List[Dict]:
    segs: List[Dict] = []
    if train_size <= 0 or test_size <= 0 or step <= 0:
        return segs
    start = 0
    num = 1
    while start + train_size + test_size <= n_rows:
        train_idx = sorted_idx[start:start + train_size]
        test_idx = sorted_idx[start + train_size:start + train_size + test_size]
        if len(train_idx) > 0 and len(test_idx) > 0:
            segs.append({"name": f"WY{num}", "train_index": train_idx.tolist(), "test_index": test_idx.tolist()})
            num += 1
        start += step
    return segs


def on_segments(_):
    seg_alert.clear_output(); seg_info.clear_output(); seg_sample.clear_output()
    if app.X is None or app.Y is None or y_col_dropdown.value is None:
        with seg_alert: display(make_alert_html("Cargue X e Y y seleccione columna Y.", level="warning")); return
    n = app.X.shape[0]
    sorted_idx = _sorted_index_by_Y(app.Y, y_col_dropdown.value)
    try:
        if seg_mode.value == "prop_y":
            segs = make_holdout_by_proportion_Y(n, sorted_idx, prop_test_pct.value)
        elif seg_mode.value == "kfold_y":
            segs = make_kfold_Y(n, sorted_idx, kfold_k.value)
        else:
            segs = make_rolling_Y(n, sorted_idx, roll_train.value, roll_test.value, roll_step.value)
        app.segments = segs
        if not segs:
            with seg_alert: display(make_alert_html("No se generaron segmentos.", level="warning")); return
        # Info
        html = ["<div><b>Segmentos generados</b></div>"]
        for s in segs:
            html.append(f"<div>- {s['name']}: train={len(s['train_index'])}, test={len(s['test_index'])}</div>")
        with seg_info: display(widgets.HTML(value="".join(html)))
        # Samples
        s0 = segs[0]
        train_df = build_sample_table(app.X.iloc[s0['train_index']], app.Y.iloc[s0['train_index']], app.Fecha.iloc[s0['train_index']] if app.Fecha is not None else None, n=20)
        test_df = build_sample_table(app.X.iloc[s0['test_index']], app.Y.iloc[s0['test_index']], app.Fecha.iloc[s0['test_index']] if app.Fecha is not None else None, n=20)
        with seg_sample:
            display(widgets.HTML(value="<b>Muestra Train (20 primeras filas)</b>"))
            display(train_df)
            display(widgets.HTML(value="<b>Muestra Test (20 primeras filas)</b>"))
            display(test_df)
    except Exception as e:
        with seg_alert: display(make_alert_html(f"Error al segmentar: {e}", level="error"))

btn_segments.on_click(on_segments)

seg_form = widgets.VBox([
    widgets.HTML(value="<h3 style='margin:6px 0'>Segmentación por Y</h3>"),
    widgets.HBox([widgets.VBox([widgets.HTML("<b>Modo</b>"), seg_mode]), widgets.VBox([widgets.HTML("<b>Columna Y</b>"), y_col_dropdown])]),
    widgets.HBox([widgets.VBox([prop_test_pct, help_prop]), widgets.VBox([kfold_k, help_kfold]), widgets.VBox([roll_train, roll_test, roll_step, help_roll])], layout=widgets.Layout(gap="12px", flex_flow="row wrap")),
    btn_segments,
    seg_alert,
    seg_info,
    seg_sample,
])

# ==========================
# Layout final Voilà
# ==========================
header = widgets.HTML(value="<div style='font-size:20px;font-weight:700'>PMS 4.0.1</div>")
footer = widgets.HTML(value="<div style='color:#777;font-size:12px;margin-top:6px'>Compatible con Voilá.</div>")

tabs = widgets.Tab(children=[paste_form, excel_form, seg_form])
tabs.set_title(0, "Copiar/Pegar")
tabs.set_title(1, "Excel")
tabs.set_title(2, "Segmentación")

widgets.VBox([header, tabs, footer])