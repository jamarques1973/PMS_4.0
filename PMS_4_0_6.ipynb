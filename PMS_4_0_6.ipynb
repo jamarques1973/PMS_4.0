# PMS 4.0.6 — Carga (X, Y, Fecha), Segmentación por Y y Selección de Variables — Voilà

from io import StringIO, BytesIO
from typing import Optional, Tuple, List, Dict

import numpy as np
import pandas as pd
import ipywidgets as widgets
from IPython.display import display

from sklearn.feature_selection import (
    f_classif, f_regression, mutual_info_classif, mutual_info_regression,
    VarianceThreshold, RFE
)
from sklearn.linear_model import LinearRegression, Lasso, LogisticRegression
from sklearn.ensemble import RandomForestRegressor, RandomForestClassifier
from sklearn.preprocessing import StandardScaler
from sklearn.impute import SimpleImputer
from sklearn.model_selection import KFold, StratifiedKFold
from sklearn.metrics import r2_score, roc_auc_score

try:
    from boruta import BorutaPy
    HAS_BORUTA = True
except Exception:
    HAS_BORUTA = False

LEVEL_TO_COLOR = {"info":"#1f77b4","success":"#2ca02c","warning":"#ff7f0e","error":"#d62728"}

def make_alert_html(message: str, level: str = "info") -> widgets.HTML:
    color = LEVEL_TO_COLOR.get(level, "#333")
    return widgets.HTML(value=(
        "<div style='padding:8px 12px;border-left:4px solid " + color + ";background:#f9f9fb;border-radius:4px;margin:6px 0;'>"
        + "<span style='color:" + color + ";font-weight:600;text-transform:uppercase;margin-right:8px;'>" + level + "</span>"
        + "<span style='color:#222'>" + message + "</span>"
        + "</div>"
    ))

def get_uploaded_bytes(uploader: widgets.FileUpload) -> Optional[bytes]:
    if not uploader.value:
        return None
    if isinstance(uploader.value, dict):
        first_key = next(iter(uploader.value))
        return uploader.value[first_key].get("content")
    if isinstance(uploader.value, tuple) and len(uploader.value) > 0:
        return uploader.value[0].get("content")
    return None

PASTE_SEPARATORS = {"Auto": None, "Tabulación (t)":"\t", "Punto y coma (;)":";", "Coma (,)":",", "Espacios múltiples":"\\s+"}
DECIMAL_OPTS = {"Auto": None, "Punto (.)":".", "Coma (,)":","}

# Parsing helpers

def _drop_index_like_first_column(df: pd.DataFrame) -> pd.DataFrame:
    if df.shape[1] > 1:
        first = df.columns[0]
        s0 = df[first]
        if s0.dtype.kind in "iu" and (
            s0.reset_index(drop=True).equals(pd.Series(range(len(s0)))) or
            s0.reset_index(drop=True).equals(pd.Series(range(1, len(s0)+1)))
        ):
            return df.drop(columns=[first])
    return df

def read_table_from_text(text: str, sep_key: str, dec_key: str) -> pd.DataFrame:
    text = (text or "").strip("\n\r ")
    if text == "":
        return pd.DataFrame()
    seps_to_try = [PASTE_SEPARATORS[sep_key]] if sep_key != "Auto" else ["\t", ";", ",", r"\s+"]
    dec = DECIMAL_OPTS[dec_key]
    best_df, best_score = None, (-1, -1)
    for sep in seps_to_try:
        try:
            kwargs = {"sep": sep, "engine":"python", "header": 0}
            if dec is not None:
                kwargs["decimal"] = dec
            df_try = pd.read_csv(StringIO(text), **kwargs)
            df_try = df_try.dropna(axis=0, how="all").dropna(axis=1, how="all").reset_index(drop=True)
            df_try = _drop_index_like_first_column(df_try)
            for c in df_try.select_dtypes(include=["object"]).columns:
                s = df_try[c].astype(str).str.replace(" ", "")
                s2 = pd.to_numeric(s.str.replace(",", "."), errors="coerce")
                if s2.notna().mean() >= 0.7:
                    df_try[c] = s2
            score = (df_try.shape[1], int(df_try.notna().sum().sum()))
            if df_try.shape[1] > 0 and (best_df is None or score > best_score):
                best_df, best_score = df_try, score
        except Exception:
            continue
    if best_df is None:
        kwargs = {"sep": r"\s+", "engine":"python", "header": 0}
        if dec is not None:
            kwargs["decimal"] = dec
        best_df = pd.read_csv(StringIO(text), **kwargs)
        best_df = best_df.dropna(axis=0, how="all").dropna(axis=1, how="all").reset_index(drop=True)
        best_df = _drop_index_like_first_column(best_df)
        for c in best_df.select_dtypes(include=["object"]).columns:
            s = best_df[c].astype(str).str.replace(" ", "")
            s2 = pd.to_numeric(s.str.replace(",", "."), errors="coerce")
            if s2.notna().mean() >= 0.7:
                best_df[c] = s2
    return best_df

def read_table_from_excel(xlsx_bytes: bytes, sheet_name: str) -> pd.DataFrame:
    xf = pd.ExcelFile(BytesIO(xlsx_bytes))
    df = xf.parse(sheet_name, header=0)
    df = df.dropna(axis=0, how="all").dropna(axis=1, how="all").reset_index(drop=True)
    df = _drop_index_like_first_column(df)
    return df

# Y única columna (copy/paste)

def read_y_from_text(text: str, dec_key: str) -> pd.DataFrame:
    text = (text or "").strip("\n\r ")
    lines = [l for l in text.splitlines() if l.strip() != ""]
    if not lines:
        return pd.DataFrame()
    col_name = lines[0].strip()
    values = [l.strip() for l in lines[1:]]
    dec = DECIMAL_OPTS[dec_key]
    if dec is None:
        comma_ratio = np.mean([("," in v) for v in values]) if values else 0
        dec = "," if comma_ratio >= 0.5 else "."
    if dec == ",":
        cleaned = []
        for v in values:
            s = v.replace(" ", "")
            if "," in s:
                s = s.replace(".", "")
                s = s.replace(",", ".")
            cleaned.append(s)
        series = pd.to_numeric(pd.Series(cleaned), errors="coerce")
    else:
        series = pd.to_numeric(pd.Series([v.replace(" ", "") for v in values]), errors="coerce")
    return pd.DataFrame({col_name: series})

# Validación y muestra

def validate_shapes(X: Optional[pd.DataFrame], Y: Optional[pd.DataFrame], Fecha: Optional[pd.DataFrame]) -> Tuple[bool, List[str]]:
    msgs: List[str] = []
    if X is None or X.shape[0] == 0:
        msgs.append("X vacío o no cargado.")
    if Y is None or Y.shape[0] == 0:
        msgs.append("Y vacío o no cargado.")
    if msgs:
        return False, msgs
    n = X.shape[0]
    if Y.shape[0] != n:
        msgs.append("X e Y deben tener el mismo número de filas.")
    if Fecha is not None and not Fecha.empty and Fecha.shape[0] != n:
        msgs.append("Fecha debe tener el mismo número de filas que X e Y.")
    return len(msgs) == 0, msgs

def build_sample_table(X: pd.DataFrame, Y: pd.DataFrame, Fecha: Optional[pd.DataFrame], n: int = 20) -> pd.DataFrame:
    df = X.copy()
    df = pd.concat([df, Y.copy()], axis=1)
    if Fecha is not None and not Fecha.empty:
        df = pd.concat([df, Fecha.copy()], axis=1)
    df.insert(0, "Muestra", np.arange(1, len(df) + 1))
    return df.head(n)

# Estado
class AppState:
    def __init__(self) -> None:
        self.X: Optional[pd.DataFrame] = None
        self.Y: Optional[pd.DataFrame] = None
        self.Fecha: Optional[pd.DataFrame] = None
        self.y_column_for_sort: Optional[str] = None
        self.segments: List[Dict] = []
        self.selection_results: Dict[str, Dict] = {}
        self.selected_X_columns: List[str] = []
    def set_data(self, X: pd.DataFrame, Y: pd.DataFrame, Fecha: Optional[pd.DataFrame]):
        self.X, self.Y, self.Fecha = X, Y, Fecha
        self.y_column_for_sort = str(self.Y.columns[0]) if self.Y.shape[1] >= 1 else None

app = AppState()

# Carga — Copy/Paste
sep_x = widgets.Dropdown(options=list(PASTE_SEPARATORS.keys()), value="Auto", description="Sep X")
dec_x = widgets.Dropdown(options=list(DECIMAL_OPTS.keys()), value="Auto", description="Dec X")
sep_y = widgets.Dropdown(options=list(PASTE_SEPARATORS.keys()), value="Auto", description="Sep Y")
dec_y = widgets.Dropdown(options=list(DECIMAL_OPTS.keys()), value="Auto", description="Dec Y")
sep_f = widgets.Dropdown(options=list(PASTE_SEPARATORS.keys()), value="Auto", description="Sep Fecha")
dec_f = widgets.Dropdown(options=list(DECIMAL_OPTS.keys()), value="Auto", description="Dec Fecha")

x_text = widgets.Textarea(placeholder="Pegue aquí X (primera fila = nombres)", layout=widgets.Layout(width="100%", height="120px"))
y_text = widgets.Textarea(placeholder="Pegue aquí Y (primera fila = nombres; 1+ columnas)", layout=widgets.Layout(width="100%", height="120px"))
fecha_text = widgets.Textarea(placeholder="Pegue aquí Fecha (primera fila = nombres)", layout=widgets.Layout(width="100%", height="120px"))

btn_import_paste = widgets.Button(description="Importar (Copiar/Pegar)", button_style="primary", icon="download")
load_alert = widgets.Output(); load_preview = widgets.Output()

help_paste_html = (
    "<div>"
    + "<p><b>Cómo pegar:</b> primera fila = cabecera; resto = datos.</p>"
    + "<ul>"
    + "<li><b>Separador</b>: Auto / Tabulación / Coma / Punto y coma / Espacios múltiples.</li>"
    + "<li><b>Decimal</b>: Auto detecta coma/punto; configure según su formato.</li>"
    + "<li><b>Índice</b>: si la primera columna es 0..N/1..N se elimina.</li>"
    + "</ul>"
    + "</div>"
)
help_paste = widgets.Accordion(children=[widgets.HTML(value=help_paste_html)])
help_paste.set_title(0, "Ayuda: Copiar/Pegar")

def refresh_y_selector():
    if app.Y is not None and app.Y.shape[1] > 0:
        y_col_dropdown.options = [str(c) for c in app.Y.columns]
        y_col_dropdown.value = app.y_column_for_sort or y_col_dropdown.options[0]
        sel_y_col.options = list(y_col_dropdown.options)
        sel_y_col.value = y_col_dropdown.value
    else:
        y_col_dropdown.options = []; y_col_dropdown.value = None
        sel_y_col.options = []; sel_y_col.value = None

def on_import_paste(_):
    load_alert.clear_output(); load_preview.clear_output()
    try:
        X_df = read_table_from_text(x_text.value, sep_x.value, dec_x.value)
        Y_df = read_y_from_text(y_text.value, dec_y.value)
        Fecha_df = None
        if fecha_text.value.strip() != "":
            Fecha_df = read_table_from_text(fecha_text.value, sep_f.value, dec_f.value)
            try:
                Fecha_df = Fecha_df.apply(pd.to_datetime, errors="coerce")
            except Exception:
                pass
        ok, msgs = validate_shapes(X_df, Y_df, Fecha_df)
        if not ok:
            with load_alert:
                display(make_alert_html("; ".join(msgs), level="error"))
            return
        app.set_data(X_df, Y_df, Fecha_df)
        with load_alert:
            display(make_alert_html("Datos importados (copiar/pegar) correctamente.", level="success"))
        with load_preview:
            display(build_sample_table(X_df, Y_df, Fecha_df, n=20))
        refresh_y_selector()
    except Exception as e:
        with load_alert:
            display(make_alert_html(f"Error importando: {e}", level="error"))

btn_import_paste.on_click(on_import_paste)

paste_form = widgets.VBox([
    widgets.HTML(value="<h3 style='margin:6px 0'>Carga por Copiar/Pegar</h3>"),
    help_paste,
    widgets.HBox([
        widgets.VBox([widgets.Label("Formato X"), sep_x, dec_x]),
        widgets.VBox([widgets.Label("Formato Y"), sep_y, dec_y]),
        widgets.VBox([widgets.Label("Formato Fecha"), sep_f, dec_f]),
    ], layout=widgets.Layout(gap="12px", flex_flow="row wrap")),
    widgets.HBox([
        widgets.VBox([widgets.Label("X"), x_text], layout=widgets.Layout(flex="1 1 0%")),
        widgets.VBox([widgets.Label("Y"), y_text], layout=widgets.Layout(flex="1 1 0%")),
        widgets.VBox([widgets.Label("Fecha"), fecha_text], layout=widgets.Layout(flex="1 1 0%")),
    ], layout=widgets.Layout(gap="12px")),
    widgets.HBox([btn_import_paste]),
    load_alert,
    load_preview,
])

# Excel
excel_uploader = widgets.FileUpload(accept=".xlsx", multiple=False, description="Subir Excel")
sheet_x = widgets.Text(value="X", description="Hoja X")
sheet_y = widgets.Text(value="Y", description="Hoja Y")
sheet_f = widgets.Text(value="Fecha", description="Hoja Fecha")
btn_import_excel = widgets.Button(description="Importar Excel", button_style="primary", icon="file-excel-o")
excel_alert = widgets.Output(); excel_preview = widgets.Output()

help_excel = widgets.Accordion(children=[widgets.HTML(value=(
    "<div>"
    + "<p>El archivo Excel debe contener hojas llamadas X, Y y (opcional) Fecha. La primera fila es la cabecera.</p>"
    + "<ul>"
    + "<li>Y: si hay varias columnas, se toma solo la primera como Variable Y.</li>"
    + "<li>Fecha: se intentará convertir a formato fecha automáticamente.</li>"
    + "</ul>"
    + "</div>"
))])
help_excel.set_title(0, "Ayuda: Excel")

def on_import_excel(_):
    excel_alert.clear_output(); excel_preview.clear_output()
    try:
        content = get_uploaded_bytes(excel_uploader)
        if content is None:
            with excel_alert:
                display(make_alert_html("Suba un archivo .xlsx primero.", level="warning"))
            return
        X_df = read_table_from_excel(content, sheet_x.value.strip() or "X")
        Y_df = read_table_from_excel(content, sheet_y.value.strip() or "Y")
        if Y_df.shape[1] > 1:
            Y_df = pd.DataFrame({str(Y_df.columns[0]): Y_df.iloc[:, 0]})
        Fecha_df = None
        hoja_f = sheet_f.value.strip()
        if hoja_f:
            Fecha_df = read_table_from_excel(content, hoja_f)
            try:
                Fecha_df = Fecha_df.apply(pd.to_datetime, errors="coerce")
            except Exception:
                pass
        ok, msgs = validate_shapes(X_df, Y_df, Fecha_df)
        if not ok:
            with excel_alert:
                display(make_alert_html("; ".join(msgs), level="error"))
            return
        app.set_data(X_df, Y_df, Fecha_df)
        with excel_alert:
            display(make_alert_html("Datos importados (Excel) correctamente.", level="success"))
        with excel_preview:
            display(build_sample_table(X_df, Y_df, Fecha_df, n=20))
        refresh_y_selector()
    except Exception as e:
        with excel_alert:
            display(make_alert_html(f"Error importando Excel: {e}", level="error"))

btn_import_excel.on_click(on_import_excel)

excel_form = widgets.VBox([
    widgets.HTML(value="<h3 style='margin:6px 0'>Carga desde Excel</h3>"),
    help_excel,
    widgets.HBox([excel_uploader, sheet_x, sheet_y, sheet_f], layout=widgets.Layout(gap="12px", flex_flow="row wrap")),
    widgets.HBox([btn_import_excel]),
    excel_alert,
    excel_preview,
])

# Segmentación (igual lógica, UI ordenada)

def _sorted_index_by_Y(Y: pd.DataFrame, y_col: str) -> np.ndarray:
    s = pd.to_numeric(Y[y_col], errors="coerce")
    return s.sort_values(kind="mergesort").index.to_numpy()

y_col_dropdown = widgets.Dropdown(options=[], description="Columna Y")
seg_mode = widgets.Dropdown(options=[
    ("Holdout por proporción (Test al final)", "prop"),
    ("K-Fold temporal (orden Y)", "kfold"),
    ("Ventanas (orden Y)", "roll"),
], value="prop", description="Modo")
prop_test_pct = widgets.IntSlider(value=20, min=1, max=90, step=1, description="Test %", readout_format="d")
kfold_k = widgets.BoundedIntText(value=5, min=2, max=20, step=1, description="K")
roll_train = widgets.BoundedIntText(value=100, min=1, max=10**9, description="Train tam")
roll_test = widgets.BoundedIntText(value=20, min=1, max=10**9, description="Test tam")
roll_step = widgets.BoundedIntText(value=20, min=1, max=10**9, description="Paso")

seg_help_html = (
    "<div>"
    + "<p><b>Segmentación por Y</b> (ordenada):</p>"
    + "<ul>"
    + "<li><b>Holdout</b>: recomienda 10%–30% para Test. Mantiene orden por Y.</li>"
    + "<li><b>K-Fold</b>: K=5 recomendado (rango 2–20). Folds crecientes con Test al final.</li>"
    + "<li><b>Ventanas</b>: Train/Test/Paso típicos 100/20/20. Ajuste según tamaño.</li>"
    + "</ul>"
    + "</div>"
)
seg_help = widgets.Accordion(children=[widgets.HTML(value=seg_help_html)])
seg_help.set_title(0, "Ayuda segmentación por Y")

seg_alert = widgets.Output(); seg_info = widgets.Output(); seg_sample = widgets.Output()
btn_segments = widgets.Button(description="Generar segmentación", button_style="primary", icon="play")

def make_holdout_by_proportion(n_rows: int, sorted_idx: np.ndarray, test_pct: int) -> List[Dict]:
    test_count = max(1, int(round(n_rows * (test_pct / 100.0))))
    test_idx = sorted_idx[-test_count:]
    train_idx = sorted_idx[:-test_count]
    if len(train_idx) == 0:
        train_idx = sorted_idx[:1]
        test_idx = sorted_idx[1:]
    return [{"name": f"Holdout {test_pct}%", "train_index": train_idx.tolist(), "test_index": test_idx.tolist()}]

def make_kfold(n_rows: int, sorted_idx: np.ndarray, k: int) -> List[Dict]:
    segs: List[Dict] = []
    if k < 2:
        return segs
    block = n_rows // k
    if block == 0:
        return segs
    for i in range(1, k):
        test_start = block * i
        test_end = block * (i + 1) if i < k - 1 else n_rows
        test_idx = sorted_idx[test_start:test_end]
        train_idx = sorted_idx[:test_start]
        if len(train_idx) == 0 or len(test_idx) == 0:
            continue
        segs.append({"name": f"Fold {i}", "train_index": train_idx.tolist(), "test_index": test_idx.tolist()})
    return segs

def make_rolling(n_rows: int, sorted_idx: np.ndarray, train_size: int, test_size: int, step: int) -> List[Dict]:
    segs: List[Dict] = []
    if train_size <= 0 or test_size <= 0 or step <= 0:
        return segs
    start = 0
    num = 1
    while start + train_size + test_size <= n_rows:
        train_idx = sorted_idx[start:start + train_size]
        test_idx = sorted_idx[start + train_size:start + train_size + test_size]
        if len(train_idx) > 0 and len(test_idx) > 0:
            segs.append({"name": f"W{num}", "train_index": train_idx.tolist(), "test_index": test_idx.tolist()})
            num += 1
        start += step
    return segs

def on_segments(_):
    seg_alert.clear_output(); seg_info.clear_output(); seg_sample.clear_output()
    if app.X is None or app.Y is None or y_col_dropdown.value is None:
        with seg_alert:
            display(make_alert_html("Cargue X/Y y seleccione Y.", level="warning"))
        return
    n = app.X.shape[0]
    sorted_idx = _sorted_index_by_Y(app.Y, y_col_dropdown.value)
    try:
        if seg_mode.value == "prop":
            segs = make_holdout_by_proportion(n, sorted_idx, prop_test_pct.value)
        elif seg_mode.value == "kfold":
            segs = make_kfold(n, sorted_idx, kfold_k.value)
        else:
            segs = make_rolling(n, sorted_idx, roll_train.value, roll_test.value, roll_step.value)
        app.segments = segs
        if not segs:
            with seg_alert:
                display(make_alert_html("No se generaron segmentos.", level="warning"))
            return
        html = ["<div><b>Segmentos generados</b></div>"]
        for s in segs:
            html.append(f"<div>- {s['name']}: train={len(s['train_index'])}, test={len(s['test_index'])}</div>")
        with seg_info:
            display(widgets.HTML(value="".join(html)))
        s0 = segs[0]
        train_df = build_sample_table(
            app.X.iloc[s0['train_index']],
            app.Y.iloc[s0['train_index']],
            app.Fecha.iloc[s0['train_index']] if app.Fecha is not None else None,
            n=20,
        )
        test_df = build_sample_table(
            app.X.iloc[s0['test_index']],
            app.Y.iloc[s0['test_index']],
            app.Fecha.iloc[s0['test_index']] if app.Fecha is not None else None,
            n=20,
        )
        with seg_sample:
            display(widgets.HTML(value="<b>Muestra Train (20 primeras filas)</b>"))
            display(train_df)
            display(widgets.HTML(value="<b>Muestra Test (20 primeras filas)</b>"))
            display(test_df)
        with seg_alert:
            display(make_alert_html("Segmentación generada.", level="success"))
    except Exception as e:
        with seg_alert:
            display(make_alert_html(f"Error en segmentación: {e}", level="error"))

btn_segments.on_click(on_segments)

seg_params_content = widgets.VBox([
    widgets.HBox([
        widgets.VBox([widgets.Label("Columna Y"), y_col_dropdown]),
        widgets.VBox([widgets.Label("Modo"), seg_mode]),
    ], layout=widgets.Layout(gap="12px", flex_flow="row wrap")),
    widgets.HBox([prop_test_pct, kfold_k, roll_train, roll_test, roll_step], layout=widgets.Layout(gap="12px", flex_flow="row wrap")),
])
seg_params = widgets.Accordion(children=[seg_params_content])
seg_params.set_title(0, "Parámetros segmentación")

seg_form = widgets.VBox([
    widgets.HTML(value="<h3 style='margin:6px 0'>Segmentación por Y (Train/Test)</h3>"),
    seg_help,
    seg_params,
    widgets.HBox([btn_segments]),
    seg_alert,
    seg_info,
    seg_sample,
])

# Selección de variables (todos los métodos)
sel_y_col = widgets.Dropdown(options=[], description="Columna Y")
run_pearson = widgets.Checkbox(value=True, description="Pearson")
run_spearman = widgets.Checkbox(value=False, description="Spearman")
run_anova = widgets.Checkbox(value=False, description="ANOVA F")
run_mi = widgets.Checkbox(value=False, description="MutualInfo")
run_var = widgets.Checkbox(value=False, description="Varianza")
run_rfe = widgets.Checkbox(value=False, description="RFE")
run_l1 = widgets.Checkbox(value=False, description="L1/Lasso/LogReg L1")
run_rf = widgets.Checkbox(value=False, description="RandomForest")
run_boruta = widgets.Checkbox(value=False, description=("Boruta (OK)" if HAS_BORUTA else "Boruta (instalar)"))
run_uamp = widgets.Checkbox(value=False, description="UAMP")

k_top = widgets.BoundedIntText(value=10, min=1, max=10000, step=1, description="Top k")
mi_neighbors = widgets.BoundedIntText(value=3, min=2, max=50, step=1, description="MI vecinos")
var_threshold = widgets.FloatText(value=0.0, description="umbral var")
rfe_estimator = widgets.Dropdown(options=[("LinearRegression","linreg"),("LogisticRegression","logreg"),("RandomForest","rf")], value="linreg", description="RFE est.")
rfe_step = widgets.BoundedIntText(value=1, min=1, max=50, step=1, description="RFE paso")
l1_alpha = widgets.FloatText(value=0.001, description="alpha (Lasso)")
logreg_C = widgets.FloatText(value=1.0, description="C (LogReg L1)")
rf_n_estimators = widgets.BoundedIntText(value=200, min=10, max=2000, step=10, description="árboles")
rf_max_depth = widgets.BoundedIntText(value=0, min=0, max=200, step=1, description="max_depth(0=auto)")
random_state = widgets.BoundedIntText(value=42, min=0, max=999999, step=1, description="seed")

sel_help_html = (
    "<div>"
    + "<p><b>Selección de variables</b>: ejecute uno o varios métodos. La Selección final es la unión de las Top-k de cada método.</p>"
    + "<ul>"
    + "<li><b>Top k</b>: 5–30 recomendado. Define cuántas variables por método se proponen.</li>"
    + "<li><b>MI vecinos</b> (Mutual Info): 3–10 típico. Más vecinos = más suavizado.</li>"
    + "<li><b>Umbral varianza</b>: 0–0.01 para eliminar constantes/casi constantes.</li>"
    + "<li><b>RFE paso</b>: 1–5 recomendado. Estimador: Linear/Logistic/RF.</li>"
    + "<li><b>L1</b>: alpha 1e-4–1e-1 (Lasso); LogReg L1 C 0.1–10.</li>"
    + "<li><b>RandomForest</b>: árboles 200–500; max_depth 0=auto (sin límite).</li>"
    + "</ul>"
    + "<hr>"
    + "<p><b>Métodos:</b> Pearson, Spearman, ANOVA F, MutualInfo, Varianza, RFE, L1/Lasso/LogReg L1, RandomForest, Boruta, UAMP.</p>"
    + "</div>"
)
sel_help = widgets.Accordion(children=[widgets.HTML(value=sel_help_html)])
sel_help.set_title(0, "Ayuda selección de variables")

sel_alert = widgets.Output(); sel_results = widgets.Output(); sel_union = widgets.Output(); sel_preview = widgets.Output()
btn_run_all = widgets.Button(description="Calcular selección y unión", button_style="primary", icon="cogs")

# Utilidades de selección

def _coerce_problem_type(y: pd.Series) -> str:
    y_non_na = y.dropna()
    try:
        unique_vals = pd.unique(y_non_na)
        if y_non_na.dtype.kind in "ifu":
            if (len(unique_vals) <= 10 and set(pd.Series(unique_vals).dropna().astype(float)) <= {0.0, 1.0}) or len(unique_vals) <= 2:
                return "clf"
            return "reg"
        return "clf" if len(unique_vals) <= 20 else "reg"
    except Exception:
        return "reg"

def _prepare_X_for_selection(X: pd.DataFrame) -> pd.DataFrame:
    Xc = X.copy()
    for c in Xc.select_dtypes(include=["object"]).columns:
        s = Xc[c].astype(str).str.replace(" ", "")
        s2 = pd.to_numeric(s.str.replace(",", "."), errors="coerce")
        if s2.notna().mean() >= 0.7:
            Xc[c] = s2
    Xc = pd.get_dummies(Xc, drop_first=False)
    imp = SimpleImputer(strategy="mean")
    X_imp = imp.fit_transform(Xc)
    X_imp = pd.DataFrame(X_imp, columns=Xc.columns, index=Xc.index)
    return X_imp

def _prepare_xy(X: pd.DataFrame, y: pd.Series) -> Tuple[pd.DataFrame, pd.Series, str]:
    Xp = _prepare_X_for_selection(X)
    ptype = _coerce_problem_type(y)
    if ptype == "clf":
        y_enc = y.astype("category").cat.codes
        return Xp, y_enc, ptype
    else:
        y_num = pd.to_numeric(y, errors="coerce")
        return Xp, y_num, ptype

# Métodos

def m_pearson(X: pd.DataFrame, y: pd.Series) -> Tuple[pd.DataFrame, List[str]]:
    Xp, yp, _ = _prepare_xy(X, y)
    corr = Xp.corrwith(yp).abs().fillna(0.0)
    df = pd.DataFrame({"feature": corr.index, "score": corr.values}).sort_values("score", ascending=False).reset_index(drop=True)
    sel = df.head(k_top.value)["feature"].tolist()
    return df, sel

def m_spearman(X: pd.DataFrame, y: pd.Series) -> Tuple[pd.DataFrame, List[str]]:
    Xp, yp, _ = _prepare_xy(X, y)
    corr = Xp.corrwith(yp, method="spearman").abs().fillna(0.0)
    df = pd.DataFrame({"feature": corr.index, "score": corr.values}).sort_values("score", ascending=False).reset_index(drop=True)
    sel = df.head(k_top.value)["feature"].tolist()
    return df, sel

def m_anova(X: pd.DataFrame, y: pd.Series) -> Tuple[pd.DataFrame, List[str]]:
    Xp, yp, ptype = _prepare_xy(X, y)
    if ptype == "clf":
        scores, _ = f_classif(Xp.values, yp.values)
    else:
        scores, _ = f_regression(Xp.values, yp.values)
    scores = np.nan_to_num(scores, nan=0.0, posinf=0.0, neginf=0.0)
    df = pd.DataFrame({"feature": Xp.columns, "score": scores}).sort_values("score", ascending=False).reset_index(drop=True)
    sel = df.head(k_top.value)["feature"].tolist()
    return df, sel

def m_mi(X: pd.DataFrame, y: pd.Series) -> Tuple[pd.DataFrame, List[str]]:
    Xp, yp, ptype = _prepare_xy(X, y)
    if ptype == "clf":
        scores = mutual_info_classif(Xp.values, yp.values, n_neighbors=int(mi_neighbors.value), discrete_features=False, random_state=int(random_state.value))
    else:
        scores = mutual_info_regression(Xp.values, yp.values, n_neighbors=int(mi_neighbors.value), random_state=int(random_state.value))
    scores = np.nan_to_num(scores, nan=0.0)
    df = pd.DataFrame({"feature": Xp.columns, "score": scores}).sort_values("score", ascending=False).reset_index(drop=True)
    sel = df.head(k_top.value)["feature"].tolist()
    return df, sel

def m_var(X: pd.DataFrame, y: pd.Series) -> Tuple[pd.DataFrame, List[str]]:
    Xp, _, _ = _prepare_xy(X, y)
    var = Xp.var(axis=0).values
    df = pd.DataFrame({"feature": Xp.columns, "score": var}).sort_values("score", ascending=False).reset_index(drop=True)
    if float(var_threshold.value) > 0:
        selected = df[df["score"] > float(var_threshold.value)]["feature"].tolist()
    else:
        selected = df.head(k_top.value)["feature"].tolist()
    return df, selected

def m_rfe(X: pd.DataFrame, y: pd.Series) -> Tuple[pd.DataFrame, List[str]]:
    Xp, yp, ptype = _prepare_xy(X, y)
    est_key = rfe_estimator.value
    if est_key == "linreg" and ptype == "reg":
        base = LinearRegression()
    elif est_key == "logreg" and ptype == "clf":
        base = LogisticRegression(penalty="l2", solver="liblinear", max_iter=2000)
    else:
        base = RandomForestRegressor(n_estimators=200, random_state=int(random_state.value), n_jobs=-1) if ptype == "reg" else RandomForestClassifier(n_estimators=200, random_state=int(random_state.value), n_jobs=-1)
    n_select = max(1, min(int(k_top.value), Xp.shape[1]))
    rfe = RFE(estimator=base, n_features_to_select=n_select, step=int(rfe_step.value))
    rfe.fit(Xp.values, yp.values)
    support = rfe.support_
    ranking = rfe.ranking_.astype(float)
    scores = (1.0 / ranking)
    df = pd.DataFrame({"feature": Xp.columns, "score": scores}).sort_values("score", ascending=False).reset_index(drop=True)
    sel = [f for f, s in zip(Xp.columns, support) if s]
    return df, sel

def m_l1(X: pd.DataFrame, y: pd.Series) -> Tuple[pd.DataFrame, List[str]]:
    Xp, yp, ptype = _prepare_xy(X, y)
    scaler = StandardScaler()
    Xs = scaler.fit_transform(Xp.values)
    if ptype == "reg":
        model = Lasso(alpha=float(l1_alpha.value), random_state=int(random_state.value), max_iter=2000)
        model.fit(Xs, yp.values)
        coef = np.abs(model.coef_)
    else:
        num_classes = int(pd.Series(yp).nunique())
        solver = "liblinear" if num_classes <= 2 else "saga"
        model = LogisticRegression(penalty="l1", C=float(logreg_C.value), solver=solver, max_iter=4000, random_state=int(random_state.value))
        model.fit(Xs, yp.values)
        if num_classes <= 2:
            coef = np.abs(model.coef_[0])
        else:
            coef = np.mean(np.abs(model.coef_), axis=0)
    df = pd.DataFrame({"feature": Xp.columns, "score": coef}).sort_values("score", ascending=False).reset_index(drop=True)
    sel = df.head(k_top.value)["feature"].tolist()
    return df, sel

def m_rf(X: pd.DataFrame, y: pd.Series) -> Tuple[pd.DataFrame, List[str]]:
    Xp, yp, ptype = _prepare_xy(X, y)
    max_depth = int(rf_max_depth.value) if int(rf_max_depth.value) > 0 else None
    if ptype == "reg":
        model = RandomForestRegressor(n_estimators=int(rf_n_estimators.value), max_depth=max_depth, random_state=int(random_state.value), n_jobs=-1)
    else:
        model = RandomForestClassifier(n_estimators=int(rf_n_estimators.value), max_depth=max_depth, random_state=int(random_state.value), n_jobs=-1)
    model.fit(Xp.values, yp.values)
    imp = model.feature_importances_
    df = pd.DataFrame({"feature": Xp.columns, "score": imp}).sort_values("score", ascending=False).reset_index(drop=True)
    sel = df.head(k_top.value)["feature"].tolist()
    return df, sel

def m_boruta(X: pd.DataFrame, y: pd.Series) -> Tuple[pd.DataFrame, List[str]]:
    if not HAS_BORUTA:
        raise RuntimeError("Boruta no disponible. Instale 'boruta' (pip install boruta).")
    Xp, yp, ptype = _prepare_xy(X, y)
    if ptype == "reg":
        rf = RandomForestRegressor(n_estimators=int(rf_n_estimators.value), random_state=int(random_state.value), n_jobs=-1)
    else:
        rf = RandomForestClassifier(n_estimators=int(rf_n_estimators.value), random_state=int(random_state.value), n_jobs=-1)
    bor = BorutaPy(estimator=rf, n_estimators='auto', verbose=0, random_state=int(random_state.value))
    bor.fit(Xp.values, yp.values)
    support = bor.support_
    scores = np.where(support, 1.0, 0.0)
    df = pd.DataFrame({"feature": Xp.columns, "score": scores}).sort_values("score", ascending=False).reset_index(drop=True)
    sel = [f for f, s in zip(Xp.columns, support) if s]
    if len(sel) > int(k_top.value):
        sel = sel[:int(k_top.value)]
    return df, sel

def m_uamp(X: pd.DataFrame, y: pd.Series) -> Tuple[pd.DataFrame, List[str]]:
    Xp, yp, ptype = _prepare_xy(X, y)
    scores: List[float] = []
    if ptype == "reg":
        n_splits = min(3, max(2, min(5, len(yp))))
        kf = KFold(n_splits=n_splits, shuffle=True, random_state=int(random_state.value))
        for j in range(Xp.shape[1]):
            xj = Xp.iloc[:, [j]].values
            fold_scores: List[float] = []
            for tr, va in kf.split(xj):
                try:
                    m = LinearRegression()
                    m.fit(xj[tr], yp.values[tr])
                    pred = m.predict(xj[va])
                    fold_scores.append(r2_score(yp.values[va], pred))
                except Exception:
                    fold_scores.append(0.0)
            scores.append(float(np.nanmean(fold_scores)))
    else:
        n_splits = min(3, max(2, min(5, len(yp))))
        skf = StratifiedKFold(n_splits=n_splits, shuffle=True, random_state=int(random_state.value))
        num_classes = int(pd.Series(yp).nunique())
        for j in range(Xp.shape[1]):
            xj = Xp.iloc[:, [j]].values
            fold_scores = []
            for tr, va in skf.split(xj, yp.values):
                try:
                    solver = "liblinear" if num_classes <= 2 else "lbfgs"
                    m = LogisticRegression(max_iter=2000, solver=solver, multi_class="ovr")
                    m.fit(xj[tr], yp.values[tr])
                    prob = m.predict_proba(xj[va])
                    if num_classes <= 2:
                        auc = roc_auc_score(yp.values[va], prob[:, 1])
                    else:
                        auc = roc_auc_score(yp.values[va], prob, multi_class="ovr")
                    fold_scores.append(auc)
                except Exception:
                    fold_scores.append(0.0)
            scores.append(float(np.nanmean(fold_scores)))
    scores = np.nan_to_num(np.array(scores), nan=0.0)
    df = pd.DataFrame({"feature": Xp.columns, "score": scores}).sort_values("score", ascending=False).reset_index(drop=True)
    sel = df.head(k_top.value)["feature"].tolist()
    return df, sel

# Ejecución selección

def on_run_selection(_):
    sel_alert.clear_output(); sel_results.clear_output(); sel_union.clear_output(); sel_preview.clear_output()
    if app.X is None or app.Y is None or sel_y_col.value is None:
        with sel_alert:
            display(make_alert_html("Cargue X/Y y seleccione Y.", level="warning"))
        return
    y = app.Y[sel_y_col.value]
    X = app.X

    app.selection_results = {}
    ran_any = False

    def show_method(name: str, df: pd.DataFrame, selected: List[str]):
        with sel_results:
            display(widgets.HTML(value="<b>" + name + "</b> — Top 10"))
            display(df.head(10))
            display(widgets.HTML(value="<i>Seleccionadas (" + str(len(selected)) + "):</i> " + ", ".join(selected)))

    try:
        if run_pearson.value:
            ran_any = True
            df, sel = m_pearson(X, y)
            app.selection_results['pearson'] = {'scores': df, 'selected': sel}
            show_method("Pearson", df, sel)
        if run_spearman.value:
            ran_any = True
            df, sel = m_spearman(X, y)
            app.selection_results['spearman'] = {'scores': df, 'selected': sel}
            show_method("Spearman", df, sel)
        if run_anova.value:
            ran_any = True
            df, sel = m_anova(X, y)
            app.selection_results['anova'] = {'scores': df, 'selected': sel}
            show_method("ANOVA F", df, sel)
        if run_mi.value:
            ran_any = True
            df, sel = m_mi(X, y)
            app.selection_results['mutual_info'] = {'scores': df, 'selected': sel}
            show_method("MutualInfo", df, sel)
        if run_var.value:
            ran_any = True
            df, sel = m_var(X, y)
            app.selection_results['variance'] = {'scores': df, 'selected': sel}
            show_method("Varianza", df, sel)
        if run_rfe.value:
            ran_any = True
            df, sel = m_rfe(X, y)
            app.selection_results['rfe'] = {'scores': df, 'selected': sel}
            show_method("RFE", df, sel)
        if run_l1.value:
            ran_any = True
            df, sel = m_l1(X, y)
            app.selection_results['l1'] = {'scores': df, 'selected': sel}
            show_method("L1/Lasso/LogReg L1", df, sel)
        if run_rf.value:
            ran_any = True
            df, sel = m_rf(X, y)
            app.selection_results['random_forest'] = {'scores': df, 'selected': sel}
            show_method("RandomForest", df, sel)
        if run_boruta.value:
            ran_any = True
            df, sel = m_boruta(X, y)
            app.selection_results['boruta'] = {'scores': df, 'selected': sel}
            show_method("Boruta", df, sel)
        if run_uamp.value:
            ran_any = True
            df, sel = m_uamp(X, y)
            app.selection_results['uamp'] = {'scores': df, 'selected': sel}
            show_method("UAMP", df, sel)
    except Exception as e:
        with sel_alert:
            display(make_alert_html("Error ejecutando métodos: " + str(e), level="error"))
        return

    if not ran_any:
        with sel_alert:
            display(make_alert_html("Seleccione al menos un método.", level="warning"))
        return

    union_set = set()
    for res in app.selection_results.values():
        union_set.update(res.get('selected', []))
    final_list = sorted(list(union_set))
    app.selected_X_columns = final_list

    with sel_union:
        display(widgets.HTML(value="<b>Selección final (unión) — " + str(len(final_list)) + " variables</b>"))
        display(pd.DataFrame({"feature": final_list}))
    with sel_preview:
        if final_list:
            display(widgets.HTML(value="<b>Muestra con X seleccionadas (20 filas)</b>"))
            display(build_sample_table(app.X[final_list], app.Y, app.Fecha, n=20))
    with sel_alert:
        display(make_alert_html("Selección calculada.", level="success"))

btn_run_all.on_click(on_run_selection)

methods_box = widgets.VBox([
    widgets.HTML("<b>Métodos</b>"),
    run_pearson, run_spearman, run_anova, run_mi, run_var, run_rfe, run_l1, run_rf, run_boruta, run_uamp,
])
params_box = widgets.VBox([
    widgets.HTML("<b>Parámetros</b>"),
    widgets.HBox([widgets.Label("MI vecinos"), mi_neighbors]),
    widgets.HBox([widgets.Label("Umbral varianza"), var_threshold]),
    widgets.HBox([widgets.Label("RFE"), rfe_estimator, rfe_step]),
    widgets.HBox([widgets.Label("L1 alpha / LogReg C"), l1_alpha, logreg_C]),
    widgets.HBox([widgets.Label("RF árboles / max_depth"), rf_n_estimators, rf_max_depth]),
])
sel_top_box = widgets.HBox([
    widgets.VBox([widgets.Label("Columna Y"), sel_y_col]),
    widgets.VBox([widgets.Label("Top k"), k_top]),
    widgets.VBox([widgets.Label("Seed"), random_state]),
], layout=widgets.Layout(gap="12px", flex_flow="row wrap"))
sel_middle_box = widgets.HBox([methods_box, params_box], layout=widgets.Layout(gap="24px", flex_flow="row wrap"))
sel_params_content = widgets.VBox([sel_top_box, sel_middle_box])
sel_params = widgets.Accordion(children=[sel_params_content])
sel_params.set_title(0, "Parámetros selección")

selection_form = widgets.VBox([
    widgets.HTML(value="<h3 style='margin:6px 0'>Selección de variables</h3>"),
    sel_help,
    sel_params,
    widgets.HBox([btn_run_all]),
    sel_alert,
    widgets.HTML(value="<b>Resultados por método</b>"),
    sel_results,
    widgets.HTML(value="<b>Selección final</b>"),
    sel_union,
    sel_preview,
])

# Layout final
header = widgets.HTML(value="<div style='font-size:20px;font-weight:700'>PMS 4.0.6</div>")
footer = widgets.HTML(value="<div style='color:#777;font-size:12px;margin-top:6px'>Compatible con Voilá.</div>")

tabs = widgets.Tab(children=[paste_form, excel_form, seg_form, selection_form])
tabs.set_title(0, "Copiar/Pegar")
tabs.set_title(1, "Excel")
tabs.set_title(2, "Segmentación")
tabs.set_title(3, "Selección")

widgets.VBox([header, tabs, footer])