# PMS 4.0 — Carga de datos (X, Y y Fecha) — UI Voilà

import sys
from io import StringIO, BytesIO
from typing import Optional, Tuple, List

import pandas as pd
import ipywidgets as widgets
from IPython.display import display

# --- Helpers UI ---
LEVEL_TO_COLOR = {
    "info": "#1f77b4",
    "success": "#2ca02c",
    "warning": "#ff7f0e",
    "error": "#d62728",
}

def make_alert_html(message: str, level: str = "info") -> widgets.HTML:
    color = LEVEL_TO_COLOR.get(level, "#333")
    return widgets.HTML(
        value=(
            f"<div style='padding:8px 12px;border-left:4px solid {color};"
            f"background:#f9f9fb;border-radius:4px;margin:6px 0;'>"
            f"<span style='color:{color};font-weight:600;text-transform:uppercase;margin-right:8px;'>{level}</span>"
            f"<span style='color:#222'>{message}</span>"
            f"</div>"
        )
    )

def get_uploaded_bytes(uploader: widgets.FileUpload) -> Optional[bytes]:
    if not uploader.value:
        return None
    if isinstance(uploader.value, dict):
        first_key = next(iter(uploader.value))
        return uploader.value[first_key].get("content")
    if isinstance(uploader.value, tuple) and len(uploader.value) > 0:
        return uploader.value[0].get("content")
    return None

# --- Parsing helpers ---

def _sanitize_headers(df: pd.DataFrame) -> pd.DataFrame:
    df = df.copy()
    df.columns = [str(c).strip() if str(c).strip() != "" else f"col_{i}" for i, c in enumerate(df.columns)]
    seen = {}
    new_cols = []
    for c in df.columns:
        if c not in seen:
            seen[c] = 1
            new_cols.append(c)
        else:
            seen[c] += 1
            new_cols.append(f"{c}_{seen[c]}")
    df.columns = new_cols
    return df

def _drop_empty_rows_cols(df: pd.DataFrame) -> pd.DataFrame:
    df = df.dropna(axis=0, how="all")
    df = df.dropna(axis=1, how="all")
    df = df.reset_index(drop=True)
    return df

def _maybe_drop_index_column(df: pd.DataFrame) -> pd.DataFrame:
    df = df.copy()
    if df.shape[1] == 0:
        return df
    first_col = df.columns[0]
    lower_name = str(first_col).lower()
    if lower_name.startswith("unnamed") or lower_name in ("index", "#", "id"):
        return df.drop(columns=[first_col])
    return df

def parse_text_to_dataframe(text: str) -> pd.DataFrame:
    text = (text or "").strip()
    if text == "":
        return pd.DataFrame()
    candidate_seps = [None, "\t", ";", ",", r"\s+"]
    candidate_decimals = [",", "."]
    best_df = None
    best_score = (-1, -1)
    for sep in candidate_seps:
        for dec in candidate_decimals:
            for header in [0, None]:
                try:
                    df = pd.read_csv(StringIO(text), sep=sep, engine="python", decimal=dec, header=header)
                    df = _drop_empty_rows_cols(df)
                    df = _maybe_drop_index_column(df)
                    df = _sanitize_headers(df)
                    score = (df.shape[1], df.notna().sum().sum())
                    if df.shape[1] > 0 and score > best_score:
                        best_df = df
                        best_score = score
                except Exception:
                    continue
    if best_df is None:
        try:
            best_df = pd.read_csv(StringIO(text), sep=r"\s+", engine="python", header=None)
            best_df = _drop_empty_rows_cols(best_df)
            best_df = _maybe_drop_index_column(best_df)
            best_df = _sanitize_headers(best_df)
        except Exception:
            return pd.DataFrame()
    return best_df

def parse_text_to_date_series(text: str) -> pd.Series:
    df = parse_text_to_dataframe(text)
    if df.shape[1] == 0:
        return pd.Series(dtype="datetime64[ns]")
    s = df.iloc[:, 0]
    dt1 = pd.to_datetime(s, errors="coerce", dayfirst=True)
    dt2 = pd.to_datetime(s, errors="coerce", dayfirst=False)
    return dt1 if dt1.notna().sum() >= dt2.notna().sum() else dt2

def parse_excel_bytes_to_dfs(xlsx_bytes: bytes, sheet_name: str) -> pd.DataFrame:
    xf = pd.ExcelFile(BytesIO(xlsx_bytes))
    df = xf.parse(sheet_name, header=0)
    df = _drop_empty_rows_cols(df)
    df = _maybe_drop_index_column(df)
    df = _sanitize_headers(df)
    return df

# --- Validation and preview ---

def validate_lengths(X: Optional[pd.DataFrame], Y: Optional[pd.DataFrame], Fecha: Optional[pd.Series]) -> Tuple[bool, List[str]]:
    messages: List[str] = []
    if X is None or X.shape[0] == 0:
        messages.append("X está vacío o no cargado.")
    if Y is None or Y.shape[0] == 0:
        messages.append("Y está vacío o no cargado.")
    if messages:
        return False, messages
    if X.shape[0] != Y.shape[0]:
        messages.append("Las filas de X y Y deben coincidir.")
    if Fecha is not None and len(Fecha) > 0:
        if len(Fecha) != X.shape[0]:
            messages.append("La longitud de Fecha debe coincidir con X e Y.")
    return len(messages) == 0, messages

def build_preview_html(X: Optional[pd.DataFrame], Y: Optional[pd.DataFrame], Fecha: Optional[pd.Series]) -> widgets.HTML:
    parts = []
    if X is not None:
        parts.append(f"<div><b>X</b>: shape={X.shape}, columnas={list(X.columns)[:6]}{'...' if X.shape[1]>6 else ''}</div>")
    if Y is not None:
        parts.append(f"<div><b>Y</b>: shape={Y.shape}, columnas={list(Y.columns)[:6]}{'...' if Y.shape[1]>6 else ''}</div>")
    if Fecha is not None and len(Fecha) > 0:
        rango = pd.to_datetime(Fecha, errors='coerce')
        parts.append(f"<div><b>Fecha</b>: {len(Fecha)} registros, rango: {str(rango.min())[:10]} a {str(rango.max())[:10]}</div>")
    if not parts:
        parts.append("<div>No hay datos cargados.</div>")
    return widgets.HTML(value="".join(parts))

# --- App state ---
class AppState:
    def __init__(self) -> None:
        self.X: Optional[pd.DataFrame] = None
        self.Y: Optional[pd.DataFrame] = None
        self.Fecha: Optional[pd.Series] = None
        self.validation_messages: List[str] = []

    def set_dataframes(self, X: Optional[pd.DataFrame], Y: Optional[pd.DataFrame], Fecha: Optional[pd.Series]) -> None:
        self.X, self.Y, self.Fecha = X, Y, Fecha

    def validate(self) -> Tuple[bool, List[str]]:
        ok, msgs = validate_lengths(self.X, self.Y, self.Fecha)
        self.validation_messages = msgs
        return ok, msgs

app_state = AppState()

# --- Manual UI ---
x_text = widgets.Textarea(placeholder="Pegue aquí su tabla de X...", layout=widgets.Layout(width="100%", height="120px"))
y_text = widgets.Textarea(placeholder="Pegue aquí su tabla de Y...", layout=widgets.Layout(width="100%", height="120px"))
fecha_text = widgets.Textarea(placeholder="Pegue aquí su columna de Fecha (opcional)...", layout=widgets.Layout(width="100%", height="120px"))
btn_import_manual = widgets.Button(description="Importar (Copiar/Pegar)", button_style="primary", icon="download", layout=widgets.Layout(width="220px"))
manual_alert_box = widgets.Output(layout=widgets.Layout(width="100%"))
manual_preview_box = widgets.Output(layout=widgets.Layout(width="100%"))

def on_import_manual_clicked(_):
    manual_alert_box.clear_output(); manual_preview_box.clear_output()
    with manual_alert_box: print("Procesando...")
    try:
        X_df = parse_text_to_dataframe(x_text.value)
        Y_df = parse_text_to_dataframe(y_text.value)
        Fecha_s = parse_text_to_date_series(fecha_text.value) if fecha_text.value.strip() else None
        ok, msgs = validate_lengths(X_df, Y_df, Fecha_s)
        manual_alert_box.clear_output()
        if not ok:
            with manual_alert_box: display(make_alert_html("; ".join(msgs), level="error")); return
        app_state.set_dataframes(X_df, Y_df, Fecha_s)
        with manual_alert_box: display(make_alert_html("Datos cargados correctamente desde Copiar/Pegar.", level="success"))
        with manual_preview_box: display(build_preview_html(X_df, Y_df, Fecha_s))
    except Exception as e:
        manual_alert_box.clear_output();
        with manual_alert_box: display(make_alert_html(f"Error al importar manualmente: {e}", level="error"))

btn_import_manual.on_click(on_import_manual_clicked)
manual_form = widgets.VBox([
    widgets.HTML(value="<h3 style='margin:6px 0'>Carga por Copiar/Pegar</h3>"),
    widgets.HBox([
        widgets.VBox([widgets.HTML("<b>X</b>"), x_text], layout=widgets.Layout(flex="1 1 0%", min_width="250px")),
        widgets.VBox([widgets.HTML("<b>Y</b>"), y_text], layout=widgets.Layout(flex="1 1 0%", min_width="250px")),
        widgets.VBox([widgets.HTML("<b>Fecha (opcional)</b>"), fecha_text], layout=widgets.Layout(flex="1 1 0%", min_width="250px")),
    ], layout=widgets.Layout(gap="12px")),
    widgets.HBox([btn_import_manual, widgets.HTML(value="<span style='color:#777;margin-left:8px;'>Cabeceras opcionales, se autodetectan separadores.</span>")]),
    manual_alert_box,
    manual_preview_box,
])

# --- Excel UI ---
excel_uploader = widgets.FileUpload(accept=".xlsx", multiple=False, description="Subir Excel", layout=widgets.Layout(width="220px"))
sheet_x = widgets.Text(value="X", description="Hoja X", layout=widgets.Layout(width="220px"))
sheet_y = widgets.Text(value="Y", description="Hoja Y", layout=widgets.Layout(width="220px"))
sheet_f = widgets.Text(value="Fecha", description="Hoja Fecha", layout=widgets.Layout(width="260px"))
btn_import_excel = widgets.Button(description="Importar Excel", button_style="primary", icon="file-excel-o", layout=widgets.Layout(width="220px"))
excel_alert_box = widgets.Output(layout=widgets.Layout(width="100%"))
excel_preview_box = widgets.Output(layout=widgets.Layout(width="100%"))

def on_import_excel_clicked(_):
    excel_alert_box.clear_output(); excel_preview_box.clear_output()
    with excel_alert_box: print("Procesando Excel...")
    try:
        content = get_uploaded_bytes(excel_uploader)
        if content is None:
            excel_alert_box.clear_output();
            with excel_alert_box: display(make_alert_html("Suba un archivo .xlsx primero.", level="warning"));
            return
        X_df = parse_excel_bytes_to_dfs(content, sheet_x.value.strip() or "X")
        Y_df = parse_excel_bytes_to_dfs(content, sheet_y.value.strip() or "Y")
        Fecha_s = None
        hoja_f = sheet_f.value.strip()
        if hoja_f:
            df_fecha = parse_excel_bytes_to_dfs(content, hoja_f)
            Fecha_s = pd.to_datetime(df_fecha.iloc[:, 0], errors="coerce") if df_fecha.shape[1] > 0 else pd.Series(dtype="datetime64[ns]")
        ok, msgs = validate_lengths(X_df, Y_df, Fecha_s)
        excel_alert_box.clear_output()
        if not ok:
            with excel_alert_box: display(make_alert_html("; ".join(msgs), level="error")); return
        app_state.set_dataframes(X_df, Y_df, Fecha_s)
        with excel_alert_box: display(make_alert_html("Datos cargados correctamente desde Excel.", level="success"))
        with excel_preview_box: display(build_preview_html(X_df, Y_df, Fecha_s))
    except Exception as e:
        excel_alert_box.clear_output();
        with excel_alert_box: display(make_alert_html(f"Error al importar Excel: {e}", level="error"))

btn_import_excel.on_click(on_import_excel_clicked)
excel_form = widgets.VBox([
    widgets.HTML(value="<h3 style='margin:6px 0'>Carga desde Excel</h3>"),
    widgets.HBox([excel_uploader, sheet_x, sheet_y, sheet_f], layout=widgets.Layout(gap="12px", flex_flow="row wrap")),
    btn_import_excel,
    excel_alert_box,
    excel_preview_box,
])

# --- Layout final Voilà ---
header = widgets.HTML(value="""
<div style='display:flex;align-items:center;gap:10px'>
  <div style='font-size:20px;font-weight:700'>PMS 4.0</div>
  <div style='color:#666'>Carga de datos (X, Y, Fecha)</div>
</div>
""")
footer = widgets.HTML(value="""
<div style='color:#777;font-size:12px;margin-top:6px'>
  Compatible con Voilá. Las longitudes de X, Y y Fecha (si existe) deben coincidir.
</div>
""")

tabs = widgets.Tab(children=[manual_form, excel_form])
tabs.set_title(0, "Copiar/Pegar")
tabs.set_title(1, "Excel")

app_container = widgets.VBox([header, tabs, footer], layout=widgets.Layout(width="100%"))
app_container