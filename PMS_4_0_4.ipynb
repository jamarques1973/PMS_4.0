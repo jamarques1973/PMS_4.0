# PMS 4.0.4 — Carga (X, Y, Fecha), Segmentación por Y y Selección de Variables — Voilà

from io import StringIO, BytesIO
from typing import Optional, Tuple, List, Dict

import numpy as np
import pandas as pd
import ipywidgets as widgets
from IPython.display import display

# sklearn
from sklearn.feature_selection import f_classif, f_regression, mutual_info_classif, mutual_info_regression, VarianceThreshold, RFE
from sklearn.linear_model import LinearRegression, Lasso, LogisticRegression
from sklearn.ensemble import RandomForestRegressor, RandomForestClassifier
from sklearn.preprocessing import StandardScaler
from sklearn.impute import SimpleImputer
from sklearn.model_selection import KFold, StratifiedKFold
from sklearn.metrics import r2_score, roc_auc_score

# Optional: Boruta
try:
    from boruta import BorutaPy
    HAS_BORUTA = True
except Exception:
    HAS_BORUTA = False

# ==========================
# Helpers UI
# ==========================
LEVEL_TO_COLOR = {"info":"#1f77b4","success":"#2ca02c","warning":"#ff7f0e","error":"#d62728"}

def make_alert_html(message: str, level: str = "info") -> widgets.HTML:
    color = LEVEL_TO_COLOR.get(level, "#333")
    return widgets.HTML(value=(
        f"<div style='padding:8px 12px;border-left:4px solid {color};background:#f9f9fb;border-radius:4px;margin:6px 0;'>"
        f"<span style='color:{color};font-weight:600;text-transform:uppercase;margin-right:8px;'>{level}</span>"
        f"<span style='color:#222'>{message}</span>"
        f"</div>"
    ))

def get_uploaded_bytes(uploader: widgets.FileUpload) -> Optional[bytes]:
    if not uploader.value:
        return None
    if isinstance(uploader.value, dict):
        first_key = next(iter(uploader.value))
        return uploader.value[first_key].get("content")
    if isinstance(uploader.value, tuple) and len(uploader.value) > 0:
        return uploader.value[0].get("content")
    return None

# ==========================
# Parsing (preserva nombres exactos) y validación
# ==========================
PASTE_SEPARATORS = {"Auto": None, "Tabulación (\t)":"\t", "Punto y coma (;)":";", "Coma (,)":",", "Espacios múltiples": r"\s+"}
DECIMAL_OPTS = {"Auto": None, "Punto (.)":".", "Coma (,)":","}
HEADER_OPTS = {"Con cabecera (primera fila)": 0}

def read_table_from_text(text: str, sep_key: str, dec_key: str, header_key: str) -> pd.DataFrame:
    text = (text or "").strip("\n\r ")
    if text == "":
        return pd.DataFrame()
    header = HEADER_OPTS[header_key]
    seps_to_try = [PASTE_SEPARATORS[sep_key]] if sep_key != "Auto" else ["\t", ";", ",", r"\s+"]
    dec = DECIMAL_OPTS[dec_key]
    best_df, best_score = None, (-1, -1)
    for sep in seps_to_try:
        try:
            kwargs = {"sep": sep, "engine":"python", "header": header}
            if dec is not None:
                kwargs["decimal"] = dec
            df_try = pd.read_csv(StringIO(text), **kwargs)
            df_try = df_try.dropna(axis=0, how="all").dropna(axis=1, how="all").reset_index(drop=True)
            score = (df_try.shape[1], int(df_try.notna().sum().sum()))
            if df_try.shape[1] > 0 and score > best_score:
                best_df, best_score = df_try, score
        except Exception:
            continue
    if best_df is None:
        kwargs = {"sep": r"\s+", "engine":"python", "header": header}
        if dec is not None:
            kwargs["decimal"] = dec
        best_df = pd.read_csv(StringIO(text), **kwargs)
        best_df = best_df.dropna(axis=0, how="all").dropna(axis=1, how="all").reset_index(drop=True)
    return best_df

def read_table_from_excel(xlsx_bytes: bytes, sheet_name: str) -> pd.DataFrame:
    xf = pd.ExcelFile(BytesIO(xlsx_bytes))
    df = xf.parse(sheet_name, header=0)
    df = df.dropna(axis=0, how="all").dropna(axis=1, how="all").reset_index(drop=True)
    return df

def validate_shapes(X: Optional[pd.DataFrame], Y: Optional[pd.DataFrame], Fecha: Optional[pd.DataFrame]) -> Tuple[bool, List[str]]:
    msgs: List[str] = []
    if X is None or X.shape[0] == 0:
        msgs.append("X vacío o no cargado.")
    if Y is None or Y.shape[0] == 0:
        msgs.append("Y vacío o no cargado.")
    if msgs:
        return False, msgs
    n = X.shape[0]
    if Y.shape[0] != n:
        msgs.append("X e Y deben tener el mismo número de filas.")
    if Fecha is not None and not Fecha.empty and Fecha.shape[0] != n:
        msgs.append("Fecha debe tener el mismo número de filas que X e Y.")
    return len(msgs) == 0, msgs

def build_sample_table(X: pd.DataFrame, Y: pd.DataFrame, Fecha: Optional[pd.DataFrame], n: int = 20) -> pd.DataFrame:
    df = X.copy()
    df = pd.concat([df, Y.copy()], axis=1)
    if Fecha is not None and not Fecha.empty:
        df = pd.concat([df, Fecha.copy()], axis=1)
    df.insert(0, "Muestra", np.arange(1, len(df) + 1))
    return df.head(n)

# ==========================
# Estado de la app
# ==========================
class AppState:
    def __init__(self) -> None:
        self.X: Optional[pd.DataFrame] = None
        self.Y: Optional[pd.DataFrame] = None
        self.Fecha: Optional[pd.DataFrame] = None
        self.y_column_for_sort: Optional[str] = None
        self.segments: List[Dict] = []
        self.segmentation_config: Dict = {}
        self.selected_X_columns: List[str] = []
        self.selection_results: Dict[str, Dict] = {}

    def set_data(self, X: pd.DataFrame, Y: pd.DataFrame, Fecha: Optional[pd.DataFrame]):
        self.X, self.Y, self.Fecha = X, Y, Fecha
        self.y_column_for_sort = str(self.Y.columns[0]) if self.Y is not None and self.Y.shape[1] >= 1 else None

app = AppState()

# ==========================
# Carga (Copiar/Pegar y Excel)
# ==========================
sep_x = widgets.Dropdown(options=list(PASTE_SEPARATORS.keys()), value="Auto", description="Sep X")
dec_x = widgets.Dropdown(options=list(DECIMAL_OPTS.keys()), value="Auto", description="Dec X")
sep_y = widgets.Dropdown(options=list(PASTE_SEPARATORS.keys()), value="Auto", description="Sep Y")
dec_y = widgets.Dropdown(options=list(DECIMAL_OPTS.keys()), value="Auto", description="Dec Y")
sep_f = widgets.Dropdown(options=list(PASTE_SEPARATORS.keys()), value="Auto", description="Sep Fecha")
dec_f = widgets.Dropdown(options=list(DECIMAL_OPTS.keys()), value="Auto", description="Dec Fecha")

x_text = widgets.Textarea(placeholder="Pegue aquí X (primera fila = nombres)", layout=widgets.Layout(width="100%", height="120px"))
y_text = widgets.Textarea(placeholder="Pegue aquí Y (primera fila = nombres)", layout=widgets.Layout(width="100%", height="120px"))
fecha_text = widgets.Textarea(placeholder="Pegue aquí Fecha (primera fila = nombres)", layout=widgets.Layout(width="100%", height="120px"))

btn_import_paste = widgets.Button(description="Importar (Copiar/Pegar)", button_style="primary", icon="download")
load_alert = widgets.Output(); load_preview_title = widgets.HTML(value=""); load_preview = widgets.Output()

help_paste = widgets.Accordion(children=[widgets.HTML(value="""
<ul>
<li>La <b>primera fila</b> de cada bloque es el <b>nombre de la variable</b>.</li>
<li>Se preservan los nombres (incl. caracteres especiales).</li>
<li>Con <i>Auto</i> se intenta autodetectar separador.</li>
</ul>
""")]); help_paste.set_title(0, "Ayuda: Copiar/Pegar")

def on_import_paste(_):
    load_alert.clear_output(); load_preview.clear_output(); load_preview_title.value = ""
    try:
        X_df = read_table_from_text(x_text.value, sep_x.value, dec_x.value, "Con cabecera (primera fila)")
        Y_df = read_table_from_text(y_text.value, sep_y.value, dec_y.value, "Con cabecera (primera fila)")
        Fecha_df = None
        if fecha_text.value.strip() != "":
            Fecha_df = read_table_from_text(fecha_text.value, sep_f.value, dec_f.value, "Con cabecera (primera fila)")
            try: Fecha_df = Fecha_df.apply(pd.to_datetime, errors="coerce")
            except Exception: pass
        ok, msgs = validate_shapes(X_df, Y_df, Fecha_df)
        if not ok:
            with load_alert: display(make_alert_html("; ".join(msgs), level="error")); return
        app.set_data(X_df, Y_df, Fecha_df)
        with load_alert: display(make_alert_html("Datos importados (copiar/pegar) correctamente.", level="success"))
        load_preview_title.value = "<b>Muestra (20 primeras filas)</b>"
        with load_preview: display(build_sample_table(X_df, Y_df, Fecha_df, n=20))
        refresh_y_selector(); refresh_sel_y_options()
    except Exception as e:
        with load_alert: display(make_alert_html(f"Error importando: {e}", level="error"))

btn_import_paste.on_click(on_import_paste)

paste_form = widgets.VBox([
    widgets.HTML(value="<h3 style='margin:6px 0'>Carga por Copiar/Pegar</h3>"),
    help_paste,
    widgets.HBox([widgets.VBox([widgets.HTML("<b>Formato X</b>"), sep_x, dec_x]),
                  widgets.VBox([widgets.HTML("<b>Formato Y</b>"), sep_y, dec_y]),
                  widgets.VBox([widgets.HTML("<b>Formato Fecha</b>"), sep_f, dec_f])], layout=widgets.Layout(gap="12px", flex_flow="row wrap")),
    widgets.HBox([widgets.VBox([widgets.HTML("<b>X</b>"), x_text], layout=widgets.Layout(flex="1 1 0%")),
                  widgets.VBox([widgets.HTML("<b>Y</b>"), y_text], layout=widgets.Layout(flex="1 1 0%")),
                  widgets.VBox([widgets.HTML("<b>Fecha</b>"), fecha_text], layout=widgets.Layout(flex="1 1 0%"))], layout=widgets.Layout(gap="12px")),
    btn_import_paste,
    load_alert,
    load_preview_title,
    load_preview,
])

# Excel
excel_uploader = widgets.FileUpload(accept=".xlsx", multiple=False, description="Subir Excel")
sheet_x = widgets.Text(value="X", description="Hoja X")
sheet_y = widgets.Text(value="Y", description="Hoja Y")
sheet_f = widgets.Text(value="Fecha", description="Hoja Fecha")
btn_import_excel = widgets.Button(description="Importar Excel", button_style="primary", icon="file-excel-o")
excel_alert = widgets.Output(); excel_preview_title = widgets.HTML(value=""); excel_preview = widgets.Output()

help_excel = widgets.Accordion(children=[widgets.HTML(value="<p>El Excel debe incluir hojas para X, Y y opcionalmente Fecha.</p>")]); help_excel.set_title(0, "Ayuda: Excel")

def on_import_excel(_):
    excel_alert.clear_output(); excel_preview.clear_output(); excel_preview_title.value = ""
    try:
        content = get_uploaded_bytes(excel_uploader)
        if content is None:
            with excel_alert: display(make_alert_html("Suba un archivo .xlsx primero.", level="warning")); return
        X_df = read_table_from_excel(content, sheet_x.value.strip() or "X")
        Y_df = read_table_from_excel(content, sheet_y.value.strip() or "Y")
        Fecha_df = None
        hoja_f = sheet_f.value.strip()
        if hoja_f:
            Fecha_df = read_table_from_excel(content, hoja_f)
            try: Fecha_df = Fecha_df.apply(pd.to_datetime, errors="coerce")
            except Exception: pass
        ok, msgs = validate_shapes(X_df, Y_df, Fecha_df)
        if not ok:
            with excel_alert: display(make_alert_html("; ".join(msgs), level="error")); return
        app.set_data(X_df, Y_df, Fecha_df)
        with excel_alert: display(make_alert_html("Datos importados (Excel) correctamente.", level="success"))
        excel_preview_title.value = "<b>Muestra (20 primeras filas)</b>"
        with excel_preview: display(build_sample_table(X_df, Y_df, Fecha_df, n=20))
        refresh_y_selector(); refresh_sel_y_options()
    except Exception as e:
        with excel_alert: display(make_alert_html(f"Error importando Excel: {e}", level="error"))

btn_import_excel.on_click(on_import_excel)

excel_form = widgets.VBox([
    widgets.HTML(value="<h3 style='margin:6px 0'>Carga desde Excel</h3>"),
    help_excel,
    widgets.HBox([excel_uploader, sheet_x, sheet_y, sheet_f], layout=widgets.Layout(gap="12px", flex_flow="row wrap")),
    btn_import_excel,
    excel_alert,
    excel_preview_title,
    excel_preview,
])

# ==========================
# Segmentación por Y (base)
# ==========================

def _sorted_index_by_Y(Y: pd.DataFrame, y_col: str) -> np.ndarray:
    s = pd.to_numeric(Y[y_col], errors="coerce")
    return s.sort_values(kind="mergesort").index.to_numpy()

seg_mode = widgets.Dropdown(options=[("Holdout por proporción (Y)", "prop_y"), ("K-Fold por Y", "kfold_y"), ("Ventanas por Y", "roll_y")], value="prop_y", description="Modo")
y_col_dropdown = widgets.Dropdown(options=[], description="Columna Y")
prop_test_pct = widgets.IntSlider(value=20, min=1, max=90, step=1, description="Test %", readout_format="d")
kfold_k = widgets.BoundedIntText(value=5, min=2, max=20, step=1, description="K")
roll_train = widgets.BoundedIntText(value=100, min=1, max=10**9, description="Train tamaño")
roll_test = widgets.BoundedIntText(value=20, min=1, max=10**9, description="Test tamaño")
roll_step = widgets.BoundedIntText(value=20, min=1, max=10**9, description="Paso")

seg_alert = widgets.Output(); seg_info = widgets.Output(); seg_sample = widgets.Output()
btn_segments = widgets.Button(description="Generar segmentación", button_style="primary", icon="play")

def refresh_y_selector():
    if app.Y is not None and app.Y.shape[1] > 0:
        y_col_dropdown.options = [str(c) for c in app.Y.columns]
        y_col_dropdown.value = app.y_column_for_sort or y_col_dropdown.options[0]
    else:
        y_col_dropdown.options = []; y_col_dropdown.value = None

def make_holdout_by_proportion_Y(n_rows: int, sorted_idx: np.ndarray, test_pct: int) -> List[Dict]:
    test_count = max(1, int(round(n_rows * (test_pct / 100.0))))
    test_idx = sorted_idx[-test_count:]
    train_idx = sorted_idx[:-test_count]
    if len(train_idx) == 0:
        train_idx = sorted_idx[:1]; test_idx = sorted_idx[1:]
    return [{"name": f"Holdout {test_pct}% (Y)", "train_index": train_idx.tolist(), "test_index": test_idx.tolist()}]

def make_kfold_Y(n_rows: int, sorted_idx: np.ndarray, k: int) -> List[Dict]:
    segs: List[Dict] = []
    if k < 2: return segs
    block = n_rows // k
    if block == 0: return segs
    for i in range(1, k):
        test_start = block * i
        test_end = block * (i + 1) if i < k - 1 else n_rows
        test_idx = sorted_idx[test_start:test_end]
        train_idx = sorted_idx[:test_start]
        if len(train_idx) == 0 or len(test_idx) == 0: continue
        segs.append({"name": f"FoldY {i}", "train_index": train_idx.tolist(), "test_index": test_idx.tolist()})
    return segs

def make_rolling_Y(n_rows: int, sorted_idx: np.ndarray, train_size: int, test_size: int, step: int) -> List[Dict]:
    segs: List[Dict] = []
    if train_size <= 0 or test_size <= 0 or step <= 0: return segs
    start = 0; num = 1
    while start + train_size + test_size <= n_rows:
        train_idx = sorted_idx[start:start + train_size]
        test_idx = sorted_idx[start + train_size:start + train_size + test_size]
        if len(train_idx) > 0 and len(test_idx) > 0:
            segs.append({"name": f"WY{num}", "train_index": train_idx.tolist(), "test_index": test_idx.tolist()}); num += 1
        start += step
    return segs

def on_segments(_):
    seg_alert.clear_output(); seg_info.clear_output(); seg_sample.clear_output()
    if app.X is None or app.Y is None or y_col_dropdown.value is None:
        with seg_alert: display(make_alert_html("Cargue X e Y y seleccione columna Y.", level="warning")); return
    n = app.X.shape[0]; sorted_idx = _sorted_index_by_Y(app.Y, y_col_dropdown.value)
    try:
        if seg_mode.value == "prop_y":
            segs = make_holdout_by_proportion_Y(n, sorted_idx, prop_test_pct.value)
        elif seg_mode.value == "kfold_y":
            segs = make_kfold_Y(n, sorted_idx, kfold_k.value)
        else:
            segs = make_rolling_Y(n, sorted_idx, roll_train.value, roll_test.value, roll_step.value)
        app.segments = segs
        if not segs:
            with seg_alert: display(make_alert_html("No se generaron segmentos.", level="warning")); return
        html = ["<div><b>Segmentos generados</b></div>"]
        for s in segs:
            html.append(f"<div>- {s['name']}: train={len(s['train_index'])}, test={len(s['test_index'])}</div>")
        with seg_info: display(widgets.HTML(value="".join(html)))
        s0 = segs[0]
        train_df = build_sample_table(app.X.iloc[s0['train_index']], app.Y.iloc[s0['train_index']], app.Fecha.iloc[s0['train_index']] if app.Fecha is not None else None, n=20)
        test_df = build_sample_table(app.X.iloc[s0['test_index']], app.Y.iloc[s0['test_index']], app.Fecha.iloc[s0['test_index']] if app.Fecha is not None else None, n=20)
        with seg_sample:
            display(widgets.HTML(value="<b>Muestra Train (20 primeras filas)</b>")); display(train_df)
            display(widgets.HTML(value="<b>Muestra Test (20 primeras filas)</b>")); display(test_df)
    except Exception as e:
        with seg_alert: display(make_alert_html(f"Error al segmentar: {e}", level="error"))

btn_segments.on_click(on_segments)

seg_form = widgets.VBox([
    widgets.HTML(value="<h3 style='margin:6px 0'>Segmentación por Y</h3>"),
    widgets.HBox([widgets.VBox([widgets.HTML("<b>Modo</b>"), seg_mode]), widgets.VBox([widgets.HTML("<b>Columna Y</b>"), y_col_dropdown])]),
    widgets.HBox([prop_test_pct, kfold_k, roll_train, roll_test, roll_step], layout=widgets.Layout(gap="12px", flex_flow="row wrap")),
    btn_segments,
    seg_alert,
    seg_info,
    seg_sample,
])

# ==========================
# Selección de variables — TODOS los métodos
# ==========================

sel_y_col = widgets.Dropdown(options=[], description="Columna Y")
problem_type = widgets.Dropdown(options=[("Auto","auto"),("Regresión","reg"),("Clasificación","clf")], value="auto", description="Problema")

# Preprocesado común
encode_categoricals = widgets.Checkbox(value=True, description="One-hot X categóricas")
drop_first = widgets.Checkbox(value=True, description="drop_first")
standardize_X = widgets.Checkbox(value=True, description="Estandarizar X")
na_strategy = widgets.Dropdown(options=[("Eliminar filas NA","drop"),("Imputar media","mean"),("Imputar mediana","median"),("Imputar 0","zero")], value="mean", description="NA X")

# Parámetros generales
k_top_common = widgets.BoundedIntText(value=10, min=1, max=10000, step=1, description="Top k")
random_state = widgets.BoundedIntText(value=42, min=0, max=999999, step=1, description="seed")

# Toggles de métodos
run_pearson = widgets.Checkbox(value=True, description="Pearson")
run_spearman = widgets.Checkbox(value=False, description="Spearman")
run_anova = widgets.Checkbox(value=False, description="ANOVA F")
run_mi = widgets.Checkbox(value=False, description="MutualInfo")
run_var = widgets.Checkbox(value=False, description="Varianza")
run_rfe = widgets.Checkbox(value=False, description="RFE")
run_l1 = widgets.Checkbox(value=False, description="L1/Lasso/LogReg L1")
run_rf = widgets.Checkbox(value=False, description="RandomForest")
run_boruta = widgets.Checkbox(value=False, description=f"Boruta{' (instalado)' if HAS_BORUTA else ' (requiere pip install boruta)'}")
run_uamp = widgets.Checkbox(value=False, description="UAMP")

# Parámetros específicos
corr_method = widgets.Dropdown(options=["pearson","spearman","kendall"], value="pearson", description="Corr")
mi_neighbors = widgets.BoundedIntText(value=3, min=2, max=50, step=1, description="vecinos (reg)")
var_threshold = widgets.FloatText(value=0.0, description="umbral var")
rfe_estimator = widgets.Dropdown(options=[("LinearRegression","linreg"),("LogisticRegression","logreg"),("RandomForest","rf")], value="linreg", description="RFE est.")
rfe_step = widgets.BoundedIntText(value=1, min=1, max=50, step=1, description="RFE paso")
l1_alpha = widgets.FloatText(value=0.001, description="alpha (Lasso)")
logreg_C = widgets.FloatText(value=1.0, description="C (LogReg L1)")
rf_n_estimators = widgets.BoundedIntText(value=200, min=10, max=2000, step=10, description="árboles")
rf_max_depth = widgets.BoundedIntText(value=0, min=0, max=200, step=1, description="max_depth (0=auto)")

# Ayudas
help_sel = widgets.Accordion(children=[widgets.HTML(value="""
<p>Seleccione los métodos a ejecutar y pulse <b>Calcular selección y unión</b>. Se mostrarán los resultados por método y la selección final (unión de top-k de cada método).</p>
<ul><li>Pearson/Spearman (regresión): correlación absoluta.</li><li>ANOVA F: f_regression / f_classif.</li><li>MutualInfo: relaciones no lineales.</li><li>Varianza: filtro por umbral.</li><li>RFE: eliminación recursiva (lineal/logística/RF).</li><li>L1/Lasso (reg) / LogReg L1 (clf).</li><li>RandomForest: importancia de características.</li><li>Boruta (si disponible): wrapper RF.</li><li>UAMP: rendimiento univariante con CV (R2/ROC AUC).</li></ul>
""")]); help_sel.set_title(0, "Ayuda selección de variables")

# Salidas por método
out_pearson = widgets.Output(); out_spearman = widgets.Output(); out_anova = widgets.Output(); out_mi = widgets.Output(); out_var = widgets.Output(); out_rfe = widgets.Output(); out_l1 = widgets.Output(); out_rf = widgets.Output(); out_boruta = widgets.Output(); out_uamp = widgets.Output()
# Selección final y preview
sel_union_out = widgets.Output(); sel_preview = widgets.Output(); sel_alert = widgets.Output()

# Resultados en acordeón
results_accordion = widgets.Accordion(children=[out_pearson, out_spearman, out_anova, out_mi, out_var, out_rfe, out_l1, out_rf, out_boruta, out_uamp])
results_accordion.set_title(0, "Resultados Pearson")
results_accordion.set_title(1, "Resultados Spearman")
results_accordion.set_title(2, "Resultados ANOVA F")
results_accordion.set_title(3, "Resultados MutualInfo")
results_accordion.set_title(4, "Resultados Varianza")
results_accordion.set_title(5, "Resultados RFE")
results_accordion.set_title(6, "Resultados L1/Lasso")
results_accordion.set_title(7, "Resultados RandomForest")
results_accordion.set_title(8, "Resultados Boruta")
results_accordion.set_title(9, "Resultados UAMP")

# Utilidades comunes

def refresh_sel_y_options():
    if app.Y is not None and app.Y.shape[1] > 0:
        sel_y_col.options = [str(c) for c in app.Y.columns]
        sel_y_col.value = app.y_column_for_sort or sel_y_col.options[0]
    else:
        sel_y_col.options = []; sel_y_col.value = None

def _coerce_problem(y: pd.Series) -> str:
    if problem_type.value != "auto":
        return problem_type.value
    try:
        y_num = pd.to_numeric(y, errors="coerce")
        return "reg" if y_num.notna().mean() > 0.8 else "clf"
    except Exception:
        return "clf"

def _prepare_Xy(X: pd.DataFrame, y: pd.Series) -> Tuple[np.ndarray, np.ndarray, List[str]]:
    X_proc = X.copy(); feat = list(X_proc.columns)
    if encode_categoricals.value:
        X_proc = pd.get_dummies(X_proc, drop_first=drop_first.value)
        feat = list(X_proc.columns)
    if na_strategy.value == "drop":
        df_all = pd.concat([X_proc, y], axis=1).dropna(axis=0)
        X_proc = df_all[feat]; y = df_all[y.name]
    else:
        fill_value = 0 if na_strategy.value == "zero" else None
        strategy = na_strategy.value if na_strategy.value in ("mean","median") else "mean"
        imp = SimpleImputer(strategy=strategy, fill_value=fill_value)
        X_proc[:] = imp.fit_transform(X_proc)
    if standardize_X.value:
        scaler = StandardScaler(); X_proc[:] = scaler.fit_transform(X_proc)
    problem = _coerce_problem(y)
    if problem == "reg":
        yv = pd.to_numeric(y, errors="coerce").fillna(y.median() if pd.api.types.is_numeric_dtype(y) else 0).to_numpy()
    else:
        yv = pd.factorize(y.astype(str))[0]
    return X_proc.to_numpy(), yv, feat

# Métodos de selección (devuelven DataFrame scores y lista selected)

def run_pearson_method(X: pd.DataFrame, y: pd.Series):
    if _coerce_problem(y) != "reg":
        raise ValueError("Pearson requiere Y numérica (regresión)")
    Xn, yv, feat = _prepare_Xy(X, y)
    vals = []; ys = pd.Series(yv)
    for j in range(len(feat)):
        c = pd.Series(Xn[:, j]).corr(ys, method="pearson"); vals.append(abs(c))
    scores = pd.DataFrame({"feature": feat, "score": vals}).fillna(0.0).sort_values("score", ascending=False)
    return scores, scores.head(k_top_common.value)["feature"].tolist()

def run_spearman_method(X: pd.DataFrame, y: pd.Series):
    if _coerce_problem(y) != "reg":
        raise ValueError("Spearman requiere Y numérica (regresión)")
    Xn, yv, feat = _prepare_Xy(X, y)
    vals = []; ys = pd.Series(yv)
    for j in range(len(feat)):
        c = pd.Series(Xn[:, j]).corr(ys, method="spearman"); vals.append(abs(c))
    scores = pd.DataFrame({"feature": feat, "score": vals}).fillna(0.0).sort_values("score", ascending=False)
    return scores, scores.head(k_top_common.value)["feature"].tolist()

def run_anova_method(X: pd.DataFrame, y: pd.Series):
    Xn, yv, feat = _prepare_Xy(X, y)
    if _coerce_problem(y) == "reg":
        fvals, pvals = f_regression(Xn, yv)
    else:
        fvals, pvals = f_classif(Xn, yv)
    scores = pd.DataFrame({"feature": feat, "score": fvals, "pvalue": pvals}).fillna(0.0).sort_values("score", ascending=False)
    return scores, scores.head(k_top_common.value)["feature"].tolist()

def run_mi_method(X: pd.DataFrame, y: pd.Series):
    Xn, yv, feat = _prepare_Xy(X, y)
    if _coerce_problem(y) == "reg":
        mi = mutual_info_regression(Xn, yv, n_neighbors=mi_neighbors.value, random_state=random_state.value)
    else:
        mi = mutual_info_classif(Xn, yv, random_state=random_state.value)
    scores = pd.DataFrame({"feature": feat, "score": mi}).fillna(0.0).sort_values("score", ascending=False)
    return scores, scores.head(k_top_common.value)["feature"].tolist()

def run_var_method(X: pd.DataFrame, y: pd.Series):
    Xn, yv, feat = _prepare_Xy(X, y)
    vt = VarianceThreshold(threshold=var_threshold.value); vt.fit(Xn)
    mask = vt.get_support(); selected = [f for f, m in zip(feat, mask) if m]
    scores = pd.DataFrame({"feature": feat, "score": Xn.var(axis=0)}).sort_values("score", ascending=False)
    if not selected:
        selected = scores.head(k_top_common.value)["feature"].tolist()
    return scores, selected

def run_rfe_method(X: pd.DataFrame, y: pd.Series):
    Xn, yv, feat = _prepare_Xy(X, y)
    if _coerce_problem(y) == "reg":
        est = LinearRegression() if rfe_estimator.value == "linreg" else (RandomForestRegressor(n_estimators=200, random_state=random_state.value) if rfe_estimator.value == "rf" else LinearRegression())
    else:
        est = LogisticRegression(penalty="l2", max_iter=200) if rfe_estimator.value == "logreg" else RandomForestClassifier(n_estimators=200, random_state=random_state.value)
    rfe = RFE(estimator=est, n_features_to_select=min(k_top_common.value, len(feat)), step=rfe_step.value)
    rfe.fit(Xn, yv); mask = rfe.get_support(); ranks = rfe.ranking_
    scores = pd.DataFrame({"feature": feat, "rank": ranks, "selected": mask}).sort_values(["selected","rank"], ascending=[False, True])
    selected = [f for f, m in zip(feat, mask) if m]
    return scores, selected

def run_l1_method(X: pd.DataFrame, y: pd.Series):
    Xn, yv, feat = _prepare_Xy(X, y)
    if _coerce_problem(y) == "reg":
        est = Lasso(alpha=float(l1_alpha.value), max_iter=5000); est.fit(Xn, yv); imp = np.abs(est.coef_)
    else:
        est = LogisticRegression(penalty="l1", C=float(logreg_C.value), solver="liblinear", max_iter=500); est.fit(Xn, yv); imp = np.abs(est.coef_)[0]
    scores = pd.DataFrame({"feature": feat, "score": imp}).sort_values("score", ascending=False)
    return scores, scores.head(k_top_common.value)["feature"].tolist()

def run_rf_method(X: pd.DataFrame, y: pd.Series):
    Xn, yv, feat = _prepare_Xy(X, y)
    if _coerce_problem(y) == "reg":
        est = RandomForestRegressor(n_estimators=rf_n_estimators.value, max_depth=None if rf_max_depth.value==0 else rf_max_depth.value, random_state=random_state.value)
    else:
        est = RandomForestClassifier(n_estimators=rf_n_estimators.value, max_depth=None if rf_max_depth.value==0 else rf_max_depth.value, random_state=random_state.value)
    est.fit(Xn, yv); imp = est.feature_importances_
    scores = pd.DataFrame({"feature": feat, "score": imp}).sort_values("score", ascending=False)
    return scores, scores.head(k_top_common.value)["feature"].tolist()

def run_boruta_method(X: pd.DataFrame, y: pd.Series):
    if not HAS_BORUTA:
        raise ImportError("Boruta no disponible. Instale: pip install boruta")
    Xn, yv, feat = _prepare_Xy(X, y)
    if _coerce_problem(y) == "reg":
        est = RandomForestRegressor(n_estimators=rf_n_estimators.value, max_depth=None if rf_max_depth.value==0 else rf_max_depth.value, random_state=random_state.value, n_jobs=-1)
    else:
        est = RandomForestClassifier(n_estimators=rf_n_estimators.value, max_depth=None if rf_max_depth.value==0 else rf_max_depth.value, random_state=random_state.value, n_jobs=-1)
    selector = BorutaPy(estimator=est, n_estimators='auto', alpha=0.05, max_iter=100, random_state=random_state.value, verbose=0)
    selector.fit(Xn, yv); mask = selector.support_.tolist(); ranks = selector.ranking_.tolist()
    scores = pd.DataFrame({"feature": feat, "selected": mask, "rank": ranks}).sort_values(["selected","rank"], ascending=[False, True])
    selected = [f for f, m in zip(feat, mask) if m]
    if not selected:
        selected = scores.head(k_top_common.value)["feature"].tolist()
    return scores, selected

def run_uamp_method(X: pd.DataFrame, y: pd.Series):
    Xn, yv, feat = _prepare_Xy(X, y)
    problem = _coerce_problem(y)
    scores_list = []
    if problem == "reg":
        kf = KFold(n_splits=5, shuffle=True, random_state=random_state.value)
        for j in range(len(feat)):
            model = LinearRegression(); vals = []
            for tr, te in kf.split(Xn):
                model.fit(Xn[tr, [j]], yv[tr]); pred = model.predict(Xn[te, [j]])
                vals.append(r2_score(yv[te], pred))
            scores_list.append(float(np.mean(vals)))
    else:
        skf = StratifiedKFold(n_splits=5, shuffle=True, random_state=random_state.value)
        for j in range(len(feat)):
            model = LogisticRegression(max_iter=1000, solver="liblinear"); vals = []
            for tr, te in skf.split(Xn, yv):
                model.fit(Xn[tr, [j]], yv[tr]); proba = model.predict_proba(Xn[te, [j]])
                try:
                    if proba.shape[1] == 2:
                        vals.append(roc_auc_score(yv[te], proba[:,1]))
                    else:
                        vals.append(roc_auc_score(yv[te], proba, multi_class='ovr'))
                except Exception:
                    vals.append(np.nan)
            scores_list.append(float(np.nanmean(vals)))
    scores = pd.DataFrame({"feature": feat, "score": scores_list}).fillna(0.0).sort_values("score", ascending=False)
    return scores, scores.head(k_top_common.value)["feature"].tolist()

# ÚNICO BOTÓN: ejecutar métodos seleccionados, mostrar resultados y generar unión
btn_run_all = widgets.Button(description="Calcular selección y unión", button_style="primary", icon="cogs")


def on_run_all(_):
    # Limpiar salidas
    for out in [out_pearson, out_spearman, out_anova, out_mi, out_var, out_rfe, out_l1, out_rf, out_boruta, out_uamp, sel_union_out, sel_preview, sel_alert]:
        out.clear_output()
    app.selection_results = {}
    if app.X is None or app.Y is None:
        with sel_alert: display(make_alert_html("Cargue X e Y antes de seleccionar variables.", level="warning")); return
    if sel_y_col.value is None:
        with sel_alert: display(make_alert_html("Seleccione columna Y.", level="warning")); return
    y = app.Y[sel_y_col.value]

    ran_any = False
    # Ejecutar por método segun toggles
    try:
        if run_pearson.value:
            ran_any = True
            scores, selected = run_pearson_method(app.X, y)
            app.selection_results['pearson'] = {'scores': scores, 'selected': selected}
            with out_pearson: display(widgets.HTML(value=f"<b>Pearson (Top {k_top_common.value})</b>")); display(scores.head(50))
        if run_spearman.value:
            ran_any = True
            scores, selected = run_spearman_method(app.X, y)
            app.selection_results['spearman'] = {'scores': scores, 'selected': selected}
            with out_spearman: display(widgets.HTML(value=f"<b>Spearman (Top {k_top_common.value})</b>")); display(scores.head(50))
        if run_anova.value:
            ran_any = True
            scores, selected = run_anova_method(app.X, y)
            app.selection_results['anova'] = {'scores': scores, 'selected': selected}
            with out_anova: display(widgets.HTML(value=f"<b>ANOVA F (Top {k_top_common.value})</b>")); display(scores.head(50))
        if run_mi.value:
            ran_any = True
            scores, selected = run_mi_method(app.X, y)
            app.selection_results['mutual_info'] = {'scores': scores, 'selected': selected}
            with out_mi: display(widgets.HTML(value=f"<b>MutualInfo (Top {k_top_common.value})</b>")); display(scores.head(50))
        if run_var.value:
            ran_any = True
            scores, selected = run_var_method(app.X, y)
            app.selection_results['variance'] = {'scores': scores, 'selected': selected}
            with out_var: display(widgets.HTML(value=f"<b>Varianza (umbral {var_threshold.value})</b>")); display(scores.head(50))
        if run_rfe.value:
            ran_any = True
            scores, selected = run_rfe_method(app.X, y)
            app.selection_results['rfe'] = {'scores': scores, 'selected': selected}
            with out_rfe: display(widgets.HTML(value=f"<b>RFE (Top {k_top_common.value})</b>")); display(scores.head(50))
        if run_l1.value:
            ran_any = True
            scores, selected = run_l1_method(app.X, y)
            app.selection_results['l1'] = {'scores': scores, 'selected': selected}
            with out_l1: display(widgets.HTML(value=f"<b>L1/Lasso (Top {k_top_common.value})</b>")); display(scores.head(50))
        if run_rf.value:
            ran_any = True
            scores, selected = run_rf_method(app.X, y)
            app.selection_results['random_forest'] = {'scores': scores, 'selected': selected}
            with out_rf: display(widgets.HTML(value=f"<b>RandomForest (Top {k_top_common.value})</b>")); display(scores.head(50))
        if run_boruta.value:
            ran_any = True
            scores, selected = run_boruta_method(app.X, y)
            app.selection_results['boruta'] = {'scores': scores, 'selected': selected}
            with out_boruta: display(widgets.HTML(value="<b>Boruta</b>")); display(scores.head(50))
        if run_uamp.value:
            ran_any = True
            scores, selected = run_uamp_method(app.X, y)
            app.selection_results['uamp'] = {'scores': scores, 'selected': selected}
            with out_uamp: display(widgets.HTML(value=f"<b>UAMP (Top {k_top_common.value})</b>")); display(scores.head(50))
    except Exception as e:
        with sel_alert: display(make_alert_html(f"Error ejecutando métodos: {e}", level="error"))
        return

    if not ran_any:
        with sel_alert: display(make_alert_html("Seleccione al menos un método.", level="warning"))
        return

    # Unión final
    union_set = set()
    for key, res in app.selection_results.items():
        union_set.update(res.get('selected', []))
    final_list = sorted(list(union_set))
    app.selected_X_columns = final_list

    with sel_union_out:
        display(widgets.HTML(value=f"<b>Selección final (unión) — {len(final_list)} variables</b>"))
        display(pd.DataFrame({"feature": final_list}))
    with sel_preview:
        if final_list:
            X_sel = app.X[final_list].copy()
            display(widgets.HTML(value="<b>Muestra con X seleccionadas (20 filas)</b>"))
            display(build_sample_table(X_sel, app.Y, app.Fecha, n=20))
    with sel_alert:
        display(make_alert_html("Cálculo completado. Revise resultados por método y la unión final.", level="success"))

btn_run_all.on_click(on_run_all)

# UI: bloque de configuración y resultados
methods_bar = widgets.HBox([
    widgets.VBox([widgets.HTML(value="<b>Métodos</b>"), run_pearson, run_spearman, run_anova, run_mi, run_var, run_rfe, run_l1, run_rf, run_boruta, run_uamp]),
    widgets.VBox([widgets.HTML(value="<b>Parámetros</b>"),
                  widgets.HBox([k_top_common, random_state], layout=widgets.Layout(gap="8px")),
                  widgets.HBox([widgets.HTML(value="MI:"), mi_neighbors], layout=widgets.Layout(gap="8px")),
                  widgets.HBox([widgets.HTML(value="Var:"), var_threshold], layout=widgets.Layout(gap="8px")),
                  widgets.HBox([widgets.HTML(value="RFE:"), rfe_estimator, rfe_step], layout=widgets.Layout(gap="8px")),
                  widgets.HBox([widgets.HTML(value="L1:"), l1_alpha, logreg_C], layout=widgets.Layout(gap="8px")),
                  widgets.HBox([widgets.HTML(value="RF:"), rf_n_estimators, rf_max_depth], layout=widgets.Layout(gap="8px"))
                 ], layout=widgets.Layout(min_width="420px"))
], layout=widgets.Layout(gap="24px", flex_flow="row wrap"))

selection_form = widgets.VBox([
    widgets.HTML(value="<h3 style='margin:6px 0'>Selección de variables</h3>"),
    help_sel,
    widgets.HBox([sel_y_col, problem_type], layout=widgets.Layout(gap="12px")),
    widgets.HTML(value="<b>Preprocesado</b>"),
    widgets.HBox([encode_categoricals, drop_first, standardize_X, na_strategy], layout=widgets.Layout(gap="12px", flex_flow="row wrap")),
    methods_bar,
    widgets.HBox([btn_run_all], layout=widgets.Layout(gap="12px")),
    sel_alert,
    widgets.HTML(value="<b>Resultados por método</b>"),
    results_accordion,
    widgets.HTML(value="<b>Selección final</b>"),
    sel_union_out,
    sel_preview,
])

# ==========================
# Layout final Voilà
# ==========================
header = widgets.HTML(value="<div style='font-size:20px;font-weight:700'>PMS 4.0.4</div>")
footer = widgets.HTML(value="<div style='color:#777;font-size:12px;margin-top:6px'>Compatible con Voilá.</div>")

tabs = widgets.Tab(children=[paste_form, excel_form, seg_form, selection_form])
tabs.set_title(0, "Copiar/Pegar")
tabs.set_title(1, "Excel")
tabs.set_title(2, "Segmentación")
tabs.set_title(3, "Selección")

widgets.VBox([header, tabs, footer])